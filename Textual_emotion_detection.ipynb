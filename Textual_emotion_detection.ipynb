{
 "cells": [
  {
   "cell_type": "markdown",
   "metadata": {},
   "source": [
    "# 1. Importing libraries and loading Data"
   ]
  },
  {
   "cell_type": "markdown",
   "metadata": {},
   "source": [
    "### 1.1 Installing necessary libraries\n"
   ]
  },
  {
   "cell_type": "code",
   "execution_count": null,
   "metadata": {},
   "outputs": [],
   "source": [
    "\"\"\"\n",
    "%pip install nltk\n",
    "%pip install emoji\n",
    "%pip install tensorflow\n",
    "%pip install transformers\n",
    "%pip install pandas\n",
    "%pip install numpy\n",
    "%pip install sklearn\n",
    "%pip install matplotlib\n",
    "%pip install seaborn\n",
    "\"\"\"\n"
   ]
  },
  {
   "cell_type": "code",
   "execution_count": 60,
   "metadata": {},
   "outputs": [],
   "source": [
    "import pandas as pd\n",
    "import numpy as np\n",
    "import matplotlib.pyplot as plt\n",
    "import seaborn as sns\n",
    "import nltk\n",
    "import emoji\n",
    "import re\n",
    "import string\n",
    "from fast_bert.data_cls import BertDataBunch\n",
    "from sklearn.model_selection import train_test_split\n",
    "from keras.preprocessing.text import Tokenizer\n",
    "from keras.preprocessing.sequence import pad_sequences\n",
    "from tensorflow.keras.utils import plot_model\n",
    "import tensorflow_hub as hub\n",
    "\n",
    "# Packages to define a BERT model\n",
    "from transformers import TFBertModel, BertTokenizerFast, BertConfig\n",
    "\n",
    "import tensorflow as tf\n",
    "from tensorflow import keras\n",
    "from keras import layers\n",
    "from keras import backend as K\n",
    "from keras.layers import Input, Dropout, Dense\n",
    "from keras.models import Model\n",
    "from tensorflow.keras.optimizers import Adam\n",
    "from keras.initializers import TruncatedNormal\n"
   ]
  },
  {
   "cell_type": "markdown",
   "metadata": {},
   "source": [
    "### 1.2 Plot Defaults\n"
   ]
  },
  {
   "cell_type": "code",
   "execution_count": 2,
   "metadata": {},
   "outputs": [],
   "source": [
    "# sns.set(font='sans-serif',\n",
    "#         rc={\n",
    "#             'axes.axisbelow': False,\n",
    "#             'axes.edgecolor': 'lightgrey',\n",
    "#             'axes.facecolor': 'None',\n",
    "#             'axes.grid': False,\n",
    "#             'axes.spines.right': False,\n",
    "#             'axes.spines.top': False,\n",
    "#             'figure.facecolor': 'white',\n",
    "#             'lines.solid_capstyle': 'round',\n",
    "#             'patch.edgecolor': 'w',\n",
    "#             'patch.force_edgecolor': True,\n",
    "#             'xtick.bottom': False,\n",
    "#             'xtick.direction': 'out',\n",
    "#             'xtick.top': False,\n",
    "#             'ytick.direction': 'out',\n",
    "#             'ytick.left': False,\n",
    "#             'ytick.right': False})\n",
    "            \n",
    "# sns.set_context('notebook', rc={'font.size': 14,\n",
    "#                                 'axes.titlesize': 14,\n",
    "#                                 'axes.labelsize': 14})\n",
    "\n",
    "colors = sns.color_palette('rocket_r')\n",
    "sns.set_palette('rocket_r')\n"
   ]
  },
  {
   "cell_type": "markdown",
   "metadata": {},
   "source": [
    "### 1.3 Helper Functions"
   ]
  },
  {
   "cell_type": "code",
   "execution_count": 88,
   "metadata": {},
   "outputs": [],
   "source": [
    "def idx2class(idx_list):\n",
    "    \"\"\"\n",
    "    This function converts a list of class indices to a list of class labels.\n",
    "\n",
    "    Parameters\n",
    "    ----------\n",
    "    idx_list : list\n",
    "        List of class indices.\n",
    "    \n",
    "    Returns\n",
    "    -------\n",
    "    class_list : list\n",
    "        List of class labels.\n",
    "    \"\"\"\n",
    "    arr = []\n",
    "    for i in idx_list:\n",
    "        arr.append(labels[int(i)])\n",
    "    return arr\n",
    "\n",
    "def EmotionMapping(list_of_emotions):\n",
    "    list = []  \n",
    "    for i in list_of_emotions:\n",
    "        if i in ekman_map['anger']:\n",
    "            list.append('anger')\n",
    "        if i in ekman_map['disgust']:\n",
    "            list.append('disgust')\n",
    "        if i in ekman_map['fear']:\n",
    "            list.append('fear')\n",
    "        if i in ekman_map['joy']:\n",
    "            list.append('joy')\n",
    "        if i in ekman_map['sadness']:\n",
    "            list.append('sadness')\n",
    "        if i in ekman_map['surprise']:\n",
    "            list.append('surprise')\n",
    "        if i == 'neutral':\n",
    "            list.append('neutral')      \n",
    "    return list\n",
    "\n",
    "def SentimentMapping(list_of_emotions):\n",
    "    list = []  \n",
    "    for i in list_of_emotions:\n",
    "        if i in sentiment_map['positive']:\n",
    "            list.append('positive')\n",
    "        if i in sentiment_map['negative']:\n",
    "            list.append('negative')\n",
    "        if i in sentiment_map['ambiguous']:\n",
    "            list.append('ambiguous')\n",
    "    return list"
   ]
  },
  {
   "cell_type": "markdown",
   "metadata": {},
   "source": [
    "### 1.4 Loading data"
   ]
  },
  {
   "cell_type": "code",
   "execution_count": 89,
   "metadata": {},
   "outputs": [],
   "source": [
    "train_url = 'https://github.com/google-research/google-research/raw/master/goemotions/data/train.tsv'\n",
    "valid_url = 'https://github.com/google-research/google-research/raw/master/goemotions/data/dev.tsv'\n",
    "test_url = 'https://github.com/google-research/google-research/raw/master/goemotions/data/test.tsv'"
   ]
  },
  {
   "cell_type": "code",
   "execution_count": 90,
   "metadata": {},
   "outputs": [],
   "source": [
    "train_df = pd.read_csv(train_url, sep='\\t', encoding='utf-8',\n",
    "                       names=['text', 'emotion', 'annotator'], header=None)\n",
    "valid_df = pd.read_csv(valid_url, sep='\\t', encoding='utf-8',\n",
    "                       names=['text', 'emotion', 'annotator'], header=None)\n",
    "test_df = pd.read_csv(test_url, sep='\\t', encoding='utf-8',\n",
    "                      names=['text', 'emotion', 'annotator'], header=None)"
   ]
  },
  {
   "cell_type": "code",
   "execution_count": 91,
   "metadata": {},
   "outputs": [
    {
     "data": {
      "text/html": [
       "<div>\n",
       "<style scoped>\n",
       "    .dataframe tbody tr th:only-of-type {\n",
       "        vertical-align: middle;\n",
       "    }\n",
       "\n",
       "    .dataframe tbody tr th {\n",
       "        vertical-align: top;\n",
       "    }\n",
       "\n",
       "    .dataframe thead th {\n",
       "        text-align: right;\n",
       "    }\n",
       "</style>\n",
       "<table border=\"1\" class=\"dataframe\">\n",
       "  <thead>\n",
       "    <tr style=\"text-align: right;\">\n",
       "      <th></th>\n",
       "      <th>text</th>\n",
       "      <th>emotion</th>\n",
       "      <th>annotator</th>\n",
       "    </tr>\n",
       "  </thead>\n",
       "  <tbody>\n",
       "    <tr>\n",
       "      <th>0</th>\n",
       "      <td>My favourite food is anything I didn't have to...</td>\n",
       "      <td>27</td>\n",
       "      <td>eebbqej</td>\n",
       "    </tr>\n",
       "    <tr>\n",
       "      <th>1</th>\n",
       "      <td>Now if he does off himself, everyone will thin...</td>\n",
       "      <td>27</td>\n",
       "      <td>ed00q6i</td>\n",
       "    </tr>\n",
       "  </tbody>\n",
       "</table>\n",
       "</div>"
      ],
      "text/plain": [
       "                                                text emotion annotator\n",
       "0  My favourite food is anything I didn't have to...      27   eebbqej\n",
       "1  Now if he does off himself, everyone will thin...      27   ed00q6i"
      ]
     },
     "execution_count": 91,
     "metadata": {},
     "output_type": "execute_result"
    }
   ],
   "source": [
    "train_df.head(2)"
   ]
  },
  {
   "cell_type": "code",
   "execution_count": 92,
   "metadata": {},
   "outputs": [
    {
     "data": {
      "text/html": [
       "<div>\n",
       "<style scoped>\n",
       "    .dataframe tbody tr th:only-of-type {\n",
       "        vertical-align: middle;\n",
       "    }\n",
       "\n",
       "    .dataframe tbody tr th {\n",
       "        vertical-align: top;\n",
       "    }\n",
       "\n",
       "    .dataframe thead th {\n",
       "        text-align: right;\n",
       "    }\n",
       "</style>\n",
       "<table border=\"1\" class=\"dataframe\">\n",
       "  <thead>\n",
       "    <tr style=\"text-align: right;\">\n",
       "      <th></th>\n",
       "      <th>text</th>\n",
       "      <th>emotion</th>\n",
       "      <th>annotator</th>\n",
       "    </tr>\n",
       "  </thead>\n",
       "  <tbody>\n",
       "    <tr>\n",
       "      <th>0</th>\n",
       "      <td>My favourite food is anything I didn't have to...</td>\n",
       "      <td>27</td>\n",
       "      <td>eebbqej</td>\n",
       "    </tr>\n",
       "    <tr>\n",
       "      <th>1</th>\n",
       "      <td>Now if he does off himself, everyone will thin...</td>\n",
       "      <td>27</td>\n",
       "      <td>ed00q6i</td>\n",
       "    </tr>\n",
       "    <tr>\n",
       "      <th>2</th>\n",
       "      <td>WHY THE FUCK IS BAYLESS ISOING</td>\n",
       "      <td>2</td>\n",
       "      <td>eezlygj</td>\n",
       "    </tr>\n",
       "    <tr>\n",
       "      <th>3</th>\n",
       "      <td>To make her feel threatened</td>\n",
       "      <td>14</td>\n",
       "      <td>ed7ypvh</td>\n",
       "    </tr>\n",
       "    <tr>\n",
       "      <th>4</th>\n",
       "      <td>Dirty Southern Wankers</td>\n",
       "      <td>3</td>\n",
       "      <td>ed0bdzj</td>\n",
       "    </tr>\n",
       "    <tr>\n",
       "      <th>...</th>\n",
       "      <td>...</td>\n",
       "      <td>...</td>\n",
       "      <td>...</td>\n",
       "    </tr>\n",
       "    <tr>\n",
       "      <th>43405</th>\n",
       "      <td>Added you mate well I’ve just got the bow and ...</td>\n",
       "      <td>18</td>\n",
       "      <td>edsb738</td>\n",
       "    </tr>\n",
       "    <tr>\n",
       "      <th>43406</th>\n",
       "      <td>Always thought that was funny but is it a refe...</td>\n",
       "      <td>6</td>\n",
       "      <td>ee7fdou</td>\n",
       "    </tr>\n",
       "    <tr>\n",
       "      <th>43407</th>\n",
       "      <td>What are you talking about? Anything bad that ...</td>\n",
       "      <td>3</td>\n",
       "      <td>efgbhks</td>\n",
       "    </tr>\n",
       "    <tr>\n",
       "      <th>43408</th>\n",
       "      <td>More like a baptism, with sexy results!</td>\n",
       "      <td>13</td>\n",
       "      <td>ed1naf8</td>\n",
       "    </tr>\n",
       "    <tr>\n",
       "      <th>43409</th>\n",
       "      <td>Enjoy the ride!</td>\n",
       "      <td>17</td>\n",
       "      <td>eecwmbq</td>\n",
       "    </tr>\n",
       "  </tbody>\n",
       "</table>\n",
       "<p>43410 rows × 3 columns</p>\n",
       "</div>"
      ],
      "text/plain": [
       "                                                    text emotion annotator\n",
       "0      My favourite food is anything I didn't have to...      27   eebbqej\n",
       "1      Now if he does off himself, everyone will thin...      27   ed00q6i\n",
       "2                         WHY THE FUCK IS BAYLESS ISOING       2   eezlygj\n",
       "3                            To make her feel threatened      14   ed7ypvh\n",
       "4                                 Dirty Southern Wankers       3   ed0bdzj\n",
       "...                                                  ...     ...       ...\n",
       "43405  Added you mate well I’ve just got the bow and ...      18   edsb738\n",
       "43406  Always thought that was funny but is it a refe...       6   ee7fdou\n",
       "43407  What are you talking about? Anything bad that ...       3   efgbhks\n",
       "43408            More like a baptism, with sexy results!      13   ed1naf8\n",
       "43409                                    Enjoy the ride!      17   eecwmbq\n",
       "\n",
       "[43410 rows x 3 columns]"
      ]
     },
     "execution_count": 92,
     "metadata": {},
     "output_type": "execute_result"
    }
   ],
   "source": [
    "train_df"
   ]
  },
  {
   "cell_type": "markdown",
   "metadata": {},
   "source": [
    "### 1.5 Preprocessing"
   ]
  },
  {
   "cell_type": "markdown",
   "metadata": {},
   "source": [
    "Column 2 \"annotator\" is unnecessary, so we can drop it.\n"
   ]
  },
  {
   "cell_type": "code",
   "execution_count": 93,
   "metadata": {},
   "outputs": [],
   "source": [
    "train_df.drop('annotator', axis=1, inplace=True)\n",
    "valid_df.drop('annotator', axis=1, inplace=True)\n",
    "test_df.drop('annotator', axis=1, inplace=True)"
   ]
  },
  {
   "cell_type": "markdown",
   "metadata": {},
   "source": [
    "Dictionaries for mapping emotions to indices and vice versa. \n",
    "\n",
    "The variable `ekman_map` is used to map 27 emotions to 7 emotions. This is done to reduce the number of classes and still retain the same emotions in the dataset.\n",
    "\n",
    "The 27 emotions can also be mapped to the 3 emotions using the `sentiment_map` dictionary for sentiment analysis tasks.\n"
   ]
  },
  {
   "cell_type": "code",
   "execution_count": 94,
   "metadata": {},
   "outputs": [],
   "source": [
    "labels = {\n",
    "    0: 'admiration',\n",
    "    1: 'amusement',\n",
    "    2: 'anger',\n",
    "    3: 'annoyance',\n",
    "    4: 'approval',\n",
    "    5: 'caring',\n",
    "    6: 'confusion',\n",
    "    7: 'curiosity',\n",
    "    8: 'desire',\n",
    "    9: 'disappointment',\n",
    "    10: 'disapproval',\n",
    "    11: 'disgust',\n",
    "    12: 'embarrassment',\n",
    "    13: 'excitement',\n",
    "    14: 'fear',\n",
    "    15: 'gratitude',\n",
    "    16: 'grief',\n",
    "    17: 'joy',\n",
    "    18: 'love',\n",
    "    19: 'nervousness',\n",
    "    20: 'optimism',\n",
    "    21: 'pride',\n",
    "    22: 'realization',\n",
    "    23: 'relief',\n",
    "    24: 'remorse',\n",
    "    25: 'sadness',\n",
    "    26: 'surprise',\n",
    "    27: 'neutral'\n",
    "}\n",
    "\n",
    "ekman_map = {\n",
    "    'anger': ['anger', 'annoyance', 'disapproval'],\n",
    "    'disgust': ['disgust'],\n",
    "    'fear': ['fear', 'nervousness'],\n",
    "    'joy': ['joy', 'amusement', 'approval', 'excitement', 'gratitude',  'love', 'optimism', 'relief', 'pride', 'admiration', 'desire', 'caring'],\n",
    "    'sadness': ['sadness', 'disappointment', 'embarrassment', 'grief',  'remorse'],\n",
    "    'surprise': ['surprise', 'realization', 'confusion', 'curiosity'],\n",
    "    'neutral': ['neutral']\n",
    "}\n",
    "\n",
    "sentiment_map = {\n",
    "    \"positive\": [\"amusement\", \"excitement\", \"joy\", \"love\", \"desire\", \"optimism\", \"caring\", \"pride\", \"admiration\", \"gratitude\", \"relief\", \"approval\"],\n",
    "    \"negative\": [\"fear\", \"nervousness\", \"remorse\", \"embarrassment\", \"disappointment\", \"sadness\", \"grief\", \"disgust\", \"anger\", \"annoyance\", \"disapproval\"],\n",
    "    \"ambiguous\": [\"realization\", \"surprise\", \"curiosity\", \"confusion\", \"neutral\"]\n",
    "}"
   ]
  },
  {
   "cell_type": "markdown",
   "metadata": {},
   "source": [
    "First, let's extract all emotions from the each example and store them in a list."
   ]
  },
  {
   "cell_type": "code",
   "execution_count": 95,
   "metadata": {},
   "outputs": [],
   "source": [
    "train_df['list of emotions'] = train_df['emotion'].apply(lambda x: x.split(','))\n",
    "test_df['list of emotions'] = test_df['emotion'].apply(lambda x: x.split(','))\n",
    "valid_df['list of emotions'] = valid_df['emotion'].apply(lambda x: x.split(','))"
   ]
  },
  {
   "cell_type": "markdown",
   "metadata": {},
   "source": [
    "We can then apply index to class mapping to get the class labels for each row"
   ]
  },
  {
   "cell_type": "code",
   "execution_count": 96,
   "metadata": {},
   "outputs": [],
   "source": [
    "train_df['emotion'] = train_df['list of emotions'].apply(lambda x: idx2class(x))\n",
    "test_df['emotion'] = test_df['list of emotions'].apply(lambda x: idx2class(x))\n",
    "valid_df['emotion'] = valid_df['list of emotions'].apply(lambda x: idx2class(x))"
   ]
  },
  {
   "cell_type": "markdown",
   "metadata": {},
   "source": [
    "Finally, we can reduce the number of classes to 7 by using the EmotionMapping function."
   ]
  },
  {
   "cell_type": "code",
   "execution_count": 97,
   "metadata": {},
   "outputs": [],
   "source": [
    "train_df['ekman_emotion'] = train_df['emotion'].apply(lambda x: EmotionMapping(x))\n",
    "test_df['ekman_emotion'] = test_df['emotion'].apply(lambda x: EmotionMapping(x))\n",
    "valid_df['ekman_emotion'] = valid_df['emotion'].apply(lambda x: EmotionMapping(x))"
   ]
  },
  {
   "cell_type": "code",
   "execution_count": 98,
   "metadata": {},
   "outputs": [
    {
     "data": {
      "text/html": [
       "<div>\n",
       "<style scoped>\n",
       "    .dataframe tbody tr th:only-of-type {\n",
       "        vertical-align: middle;\n",
       "    }\n",
       "\n",
       "    .dataframe tbody tr th {\n",
       "        vertical-align: top;\n",
       "    }\n",
       "\n",
       "    .dataframe thead th {\n",
       "        text-align: right;\n",
       "    }\n",
       "</style>\n",
       "<table border=\"1\" class=\"dataframe\">\n",
       "  <thead>\n",
       "    <tr style=\"text-align: right;\">\n",
       "      <th></th>\n",
       "      <th>text</th>\n",
       "      <th>emotion</th>\n",
       "      <th>list of emotions</th>\n",
       "      <th>ekman_emotion</th>\n",
       "    </tr>\n",
       "  </thead>\n",
       "  <tbody>\n",
       "    <tr>\n",
       "      <th>0</th>\n",
       "      <td>My favourite food is anything I didn't have to...</td>\n",
       "      <td>[neutral]</td>\n",
       "      <td>[27]</td>\n",
       "      <td>[neutral]</td>\n",
       "    </tr>\n",
       "    <tr>\n",
       "      <th>1</th>\n",
       "      <td>Now if he does off himself, everyone will thin...</td>\n",
       "      <td>[neutral]</td>\n",
       "      <td>[27]</td>\n",
       "      <td>[neutral]</td>\n",
       "    </tr>\n",
       "    <tr>\n",
       "      <th>2</th>\n",
       "      <td>WHY THE FUCK IS BAYLESS ISOING</td>\n",
       "      <td>[anger]</td>\n",
       "      <td>[2]</td>\n",
       "      <td>[anger]</td>\n",
       "    </tr>\n",
       "    <tr>\n",
       "      <th>3</th>\n",
       "      <td>To make her feel threatened</td>\n",
       "      <td>[fear]</td>\n",
       "      <td>[14]</td>\n",
       "      <td>[fear]</td>\n",
       "    </tr>\n",
       "    <tr>\n",
       "      <th>4</th>\n",
       "      <td>Dirty Southern Wankers</td>\n",
       "      <td>[annoyance]</td>\n",
       "      <td>[3]</td>\n",
       "      <td>[anger]</td>\n",
       "    </tr>\n",
       "    <tr>\n",
       "      <th>5</th>\n",
       "      <td>OmG pEyToN iSn'T gOoD eNoUgH tO hElP uS iN tHe...</td>\n",
       "      <td>[surprise]</td>\n",
       "      <td>[26]</td>\n",
       "      <td>[surprise]</td>\n",
       "    </tr>\n",
       "    <tr>\n",
       "      <th>6</th>\n",
       "      <td>Yes I heard abt the f bombs! That has to be wh...</td>\n",
       "      <td>[gratitude]</td>\n",
       "      <td>[15]</td>\n",
       "      <td>[joy]</td>\n",
       "    </tr>\n",
       "    <tr>\n",
       "      <th>7</th>\n",
       "      <td>We need more boards and to create a bit more s...</td>\n",
       "      <td>[desire, optimism]</td>\n",
       "      <td>[8, 20]</td>\n",
       "      <td>[joy, joy]</td>\n",
       "    </tr>\n",
       "    <tr>\n",
       "      <th>8</th>\n",
       "      <td>Damn youtube and outrage drama is super lucrat...</td>\n",
       "      <td>[admiration]</td>\n",
       "      <td>[0]</td>\n",
       "      <td>[joy]</td>\n",
       "    </tr>\n",
       "    <tr>\n",
       "      <th>9</th>\n",
       "      <td>It might be linked to the trust factor of your...</td>\n",
       "      <td>[neutral]</td>\n",
       "      <td>[27]</td>\n",
       "      <td>[neutral]</td>\n",
       "    </tr>\n",
       "  </tbody>\n",
       "</table>\n",
       "</div>"
      ],
      "text/plain": [
       "                                                text             emotion  \\\n",
       "0  My favourite food is anything I didn't have to...           [neutral]   \n",
       "1  Now if he does off himself, everyone will thin...           [neutral]   \n",
       "2                     WHY THE FUCK IS BAYLESS ISOING             [anger]   \n",
       "3                        To make her feel threatened              [fear]   \n",
       "4                             Dirty Southern Wankers         [annoyance]   \n",
       "5  OmG pEyToN iSn'T gOoD eNoUgH tO hElP uS iN tHe...          [surprise]   \n",
       "6  Yes I heard abt the f bombs! That has to be wh...         [gratitude]   \n",
       "7  We need more boards and to create a bit more s...  [desire, optimism]   \n",
       "8  Damn youtube and outrage drama is super lucrat...        [admiration]   \n",
       "9  It might be linked to the trust factor of your...           [neutral]   \n",
       "\n",
       "  list of emotions ekman_emotion  \n",
       "0             [27]     [neutral]  \n",
       "1             [27]     [neutral]  \n",
       "2              [2]       [anger]  \n",
       "3             [14]        [fear]  \n",
       "4              [3]       [anger]  \n",
       "5             [26]    [surprise]  \n",
       "6             [15]         [joy]  \n",
       "7          [8, 20]    [joy, joy]  \n",
       "8              [0]         [joy]  \n",
       "9             [27]     [neutral]  "
      ]
     },
     "execution_count": 98,
     "metadata": {},
     "output_type": "execute_result"
    }
   ],
   "source": [
    "train_df.head(10)"
   ]
  },
  {
   "cell_type": "code",
   "execution_count": 99,
   "metadata": {},
   "outputs": [],
   "source": [
    "def clean_text(text):\n",
    "    \"\"\"\n",
    "    This function cleans the text in the dataframe and returns a list of cleaned text.\n",
    "    text: a string\n",
    "\n",
    "    return: modified initial string\n",
    "    \"\"\"\n",
    "    # Removing Emojis\n",
    "    text = emoji.demojize(text)  # remove emojis\n",
    "    text = str(text).lower()  # text to lower case\n",
    "    text = re.sub(r'[%s]' % re.escape(string.punctuation), ' ', text)  # remove punctuation\n",
    "    return text"
   ]
  },
  {
   "cell_type": "markdown",
   "metadata": {},
   "source": [
    "One hot encoding of emotions "
   ]
  },
  {
   "cell_type": "code",
   "execution_count": 100,
   "metadata": {},
   "outputs": [],
   "source": [
    "for i in ekman_map:\n",
    "    train_df[i] = train_df['ekman_emotion'].apply(lambda x: 1 if i in x else 0)\n",
    "    test_df[i] = test_df['ekman_emotion'].apply(lambda x: 1 if i in x else 0)\n",
    "    valid_df[i] = valid_df['ekman_emotion'].apply(lambda x: 1 if i in x else 0)"
   ]
  },
  {
   "cell_type": "code",
   "execution_count": 101,
   "metadata": {},
   "outputs": [
    {
     "data": {
      "text/html": [
       "<div>\n",
       "<style scoped>\n",
       "    .dataframe tbody tr th:only-of-type {\n",
       "        vertical-align: middle;\n",
       "    }\n",
       "\n",
       "    .dataframe tbody tr th {\n",
       "        vertical-align: top;\n",
       "    }\n",
       "\n",
       "    .dataframe thead th {\n",
       "        text-align: right;\n",
       "    }\n",
       "</style>\n",
       "<table border=\"1\" class=\"dataframe\">\n",
       "  <thead>\n",
       "    <tr style=\"text-align: right;\">\n",
       "      <th></th>\n",
       "      <th>text</th>\n",
       "      <th>emotion</th>\n",
       "      <th>list of emotions</th>\n",
       "      <th>ekman_emotion</th>\n",
       "      <th>anger</th>\n",
       "      <th>disgust</th>\n",
       "      <th>fear</th>\n",
       "      <th>joy</th>\n",
       "      <th>sadness</th>\n",
       "      <th>surprise</th>\n",
       "      <th>neutral</th>\n",
       "    </tr>\n",
       "  </thead>\n",
       "  <tbody>\n",
       "    <tr>\n",
       "      <th>0</th>\n",
       "      <td>My favourite food is anything I didn't have to...</td>\n",
       "      <td>[neutral]</td>\n",
       "      <td>[27]</td>\n",
       "      <td>[neutral]</td>\n",
       "      <td>0</td>\n",
       "      <td>0</td>\n",
       "      <td>0</td>\n",
       "      <td>0</td>\n",
       "      <td>0</td>\n",
       "      <td>0</td>\n",
       "      <td>1</td>\n",
       "    </tr>\n",
       "    <tr>\n",
       "      <th>1</th>\n",
       "      <td>Now if he does off himself, everyone will thin...</td>\n",
       "      <td>[neutral]</td>\n",
       "      <td>[27]</td>\n",
       "      <td>[neutral]</td>\n",
       "      <td>0</td>\n",
       "      <td>0</td>\n",
       "      <td>0</td>\n",
       "      <td>0</td>\n",
       "      <td>0</td>\n",
       "      <td>0</td>\n",
       "      <td>1</td>\n",
       "    </tr>\n",
       "    <tr>\n",
       "      <th>2</th>\n",
       "      <td>WHY THE FUCK IS BAYLESS ISOING</td>\n",
       "      <td>[anger]</td>\n",
       "      <td>[2]</td>\n",
       "      <td>[anger]</td>\n",
       "      <td>1</td>\n",
       "      <td>0</td>\n",
       "      <td>0</td>\n",
       "      <td>0</td>\n",
       "      <td>0</td>\n",
       "      <td>0</td>\n",
       "      <td>0</td>\n",
       "    </tr>\n",
       "    <tr>\n",
       "      <th>3</th>\n",
       "      <td>To make her feel threatened</td>\n",
       "      <td>[fear]</td>\n",
       "      <td>[14]</td>\n",
       "      <td>[fear]</td>\n",
       "      <td>0</td>\n",
       "      <td>0</td>\n",
       "      <td>1</td>\n",
       "      <td>0</td>\n",
       "      <td>0</td>\n",
       "      <td>0</td>\n",
       "      <td>0</td>\n",
       "    </tr>\n",
       "    <tr>\n",
       "      <th>4</th>\n",
       "      <td>Dirty Southern Wankers</td>\n",
       "      <td>[annoyance]</td>\n",
       "      <td>[3]</td>\n",
       "      <td>[anger]</td>\n",
       "      <td>1</td>\n",
       "      <td>0</td>\n",
       "      <td>0</td>\n",
       "      <td>0</td>\n",
       "      <td>0</td>\n",
       "      <td>0</td>\n",
       "      <td>0</td>\n",
       "    </tr>\n",
       "    <tr>\n",
       "      <th>5</th>\n",
       "      <td>OmG pEyToN iSn'T gOoD eNoUgH tO hElP uS iN tHe...</td>\n",
       "      <td>[surprise]</td>\n",
       "      <td>[26]</td>\n",
       "      <td>[surprise]</td>\n",
       "      <td>0</td>\n",
       "      <td>0</td>\n",
       "      <td>0</td>\n",
       "      <td>0</td>\n",
       "      <td>0</td>\n",
       "      <td>1</td>\n",
       "      <td>0</td>\n",
       "    </tr>\n",
       "    <tr>\n",
       "      <th>6</th>\n",
       "      <td>Yes I heard abt the f bombs! That has to be wh...</td>\n",
       "      <td>[gratitude]</td>\n",
       "      <td>[15]</td>\n",
       "      <td>[joy]</td>\n",
       "      <td>0</td>\n",
       "      <td>0</td>\n",
       "      <td>0</td>\n",
       "      <td>1</td>\n",
       "      <td>0</td>\n",
       "      <td>0</td>\n",
       "      <td>0</td>\n",
       "    </tr>\n",
       "    <tr>\n",
       "      <th>7</th>\n",
       "      <td>We need more boards and to create a bit more s...</td>\n",
       "      <td>[desire, optimism]</td>\n",
       "      <td>[8, 20]</td>\n",
       "      <td>[joy, joy]</td>\n",
       "      <td>0</td>\n",
       "      <td>0</td>\n",
       "      <td>0</td>\n",
       "      <td>1</td>\n",
       "      <td>0</td>\n",
       "      <td>0</td>\n",
       "      <td>0</td>\n",
       "    </tr>\n",
       "    <tr>\n",
       "      <th>8</th>\n",
       "      <td>Damn youtube and outrage drama is super lucrat...</td>\n",
       "      <td>[admiration]</td>\n",
       "      <td>[0]</td>\n",
       "      <td>[joy]</td>\n",
       "      <td>0</td>\n",
       "      <td>0</td>\n",
       "      <td>0</td>\n",
       "      <td>1</td>\n",
       "      <td>0</td>\n",
       "      <td>0</td>\n",
       "      <td>0</td>\n",
       "    </tr>\n",
       "    <tr>\n",
       "      <th>9</th>\n",
       "      <td>It might be linked to the trust factor of your...</td>\n",
       "      <td>[neutral]</td>\n",
       "      <td>[27]</td>\n",
       "      <td>[neutral]</td>\n",
       "      <td>0</td>\n",
       "      <td>0</td>\n",
       "      <td>0</td>\n",
       "      <td>0</td>\n",
       "      <td>0</td>\n",
       "      <td>0</td>\n",
       "      <td>1</td>\n",
       "    </tr>\n",
       "  </tbody>\n",
       "</table>\n",
       "</div>"
      ],
      "text/plain": [
       "                                                text             emotion  \\\n",
       "0  My favourite food is anything I didn't have to...           [neutral]   \n",
       "1  Now if he does off himself, everyone will thin...           [neutral]   \n",
       "2                     WHY THE FUCK IS BAYLESS ISOING             [anger]   \n",
       "3                        To make her feel threatened              [fear]   \n",
       "4                             Dirty Southern Wankers         [annoyance]   \n",
       "5  OmG pEyToN iSn'T gOoD eNoUgH tO hElP uS iN tHe...          [surprise]   \n",
       "6  Yes I heard abt the f bombs! That has to be wh...         [gratitude]   \n",
       "7  We need more boards and to create a bit more s...  [desire, optimism]   \n",
       "8  Damn youtube and outrage drama is super lucrat...        [admiration]   \n",
       "9  It might be linked to the trust factor of your...           [neutral]   \n",
       "\n",
       "  list of emotions ekman_emotion  anger  disgust  fear  joy  sadness  \\\n",
       "0             [27]     [neutral]      0        0     0    0        0   \n",
       "1             [27]     [neutral]      0        0     0    0        0   \n",
       "2              [2]       [anger]      1        0     0    0        0   \n",
       "3             [14]        [fear]      0        0     1    0        0   \n",
       "4              [3]       [anger]      1        0     0    0        0   \n",
       "5             [26]    [surprise]      0        0     0    0        0   \n",
       "6             [15]         [joy]      0        0     0    1        0   \n",
       "7          [8, 20]    [joy, joy]      0        0     0    1        0   \n",
       "8              [0]         [joy]      0        0     0    1        0   \n",
       "9             [27]     [neutral]      0        0     0    0        0   \n",
       "\n",
       "   surprise  neutral  \n",
       "0         0        1  \n",
       "1         0        1  \n",
       "2         0        0  \n",
       "3         0        0  \n",
       "4         0        0  \n",
       "5         1        0  \n",
       "6         0        0  \n",
       "7         0        0  \n",
       "8         0        0  \n",
       "9         0        1  "
      ]
     },
     "execution_count": 101,
     "metadata": {},
     "output_type": "execute_result"
    }
   ],
   "source": [
    "train_df.head(10)"
   ]
  },
  {
   "cell_type": "markdown",
   "metadata": {},
   "source": [
    "### 1.6 Visualization"
   ]
  },
  {
   "cell_type": "markdown",
   "metadata": {},
   "source": [
    "Bar plot of distribution of emotions"
   ]
  },
  {
   "cell_type": "code",
   "execution_count": 102,
   "metadata": {},
   "outputs": [
    {
     "data": {
      "image/png": "[encoded data removed]",
      "text/plain": [
       "<Figure size 864x576 with 1 Axes>"
      ]
     },
     "metadata": {
      "needs_background": "light"
     },
     "output_type": "display_data"
    }
   ],
   "source": [
    "labels_summary = train_df.iloc[:, 6:].sum()\n",
    "labels_summary.sort_values(ascending=False, inplace=True)\n",
    "\n",
    "fig = plt.figure(figsize=(12, 8))\n",
    "sns.barplot(x=labels_summary.index,\n",
    "            y=labels_summary.values, palette='rocket_r')\n",
    "plt.xticks(rotation=45)\n",
    "plt.ylabel('Frequency')\n",
    "plt.show()"
   ]
  },
  {
   "cell_type": "markdown",
   "metadata": {},
   "source": [
    "Distribution of text length in the train set"
   ]
  },
  {
   "cell_type": "code",
   "execution_count": 116,
   "metadata": {},
   "outputs": [
    {
     "data": {
      "text/plain": [
       "<Figure size 864x720 with 0 Axes>"
      ]
     },
     "metadata": {},
     "output_type": "display_data"
    },
    {
     "data": {
      "image/png": "[encoded data removed]",
      "text/plain": [
       "<Figure size 360x360 with 1 Axes>"
      ]
     },
     "metadata": {
      "needs_background": "light"
     },
     "output_type": "display_data"
    }
   ],
   "source": [
    "full_text = pd.concat([train_df['text'], valid_df['text'], test_df['text']])\n",
    "lengths = full_text.apply(lambda x: len(x.split()))\n",
    "fig = plt.figure(figsize=(12, 10))\n",
    "sns.displot(lengths, kde=True, rug=False, color=colors[5])\n",
    "plt.title('Distribution of Text Lengths')\n",
    "plt.xlabel('Text Length')\n",
    "plt.ylabel('Frequency')\n",
    "plt.xlim(0, 40)\n",
    "plt.show()"
   ]
  },
  {
   "cell_type": "markdown",
   "metadata": {},
   "source": [
    "# 2. Model"
   ]
  },
  {
   "cell_type": "markdown",
   "metadata": {},
   "source": [
    "### 2.1 Base model config"
   ]
  },
  {
   "cell_type": "markdown",
   "metadata": {},
   "source": [
    "#### Computing max length of samples\n",
    "\n",
    "`max_length` variable is used to limit the length of the input text that is fed to the model. The sequence will be padded with the `<PAD>` token if the length of the sequence is less than `max_length` and the sequence will be truncated if the length of the sequence is more than `max_length`. This is done to ensure that the model can handle any size of input text."
   ]
  },
  {
   "cell_type": "code",
   "execution_count": 130,
   "metadata": {},
   "outputs": [
    {
     "data": {
      "text/plain": [
       "33"
      ]
     },
     "execution_count": 130,
     "metadata": {},
     "output_type": "execute_result"
    }
   ],
   "source": [
    "full_text = pd.concat([train_df['text'], valid_df['text'], test_df['text']])\n",
    "max_length = full_text.apply(lambda x: len(x.split())).max()\n",
    "max_length"
   ]
  },
  {
   "cell_type": "markdown",
   "metadata": {},
   "source": [
    "I am going to use Google's BERT base model which contains 110M parameters."
   ]
  },
  {
   "cell_type": "code",
   "execution_count": 131,
   "metadata": {},
   "outputs": [
    {
     "name": "stderr",
     "output_type": "stream",
     "text": [
      "Some layers from the model checkpoint at bert-base-uncased were not used when initializing TFBertModel: ['mlm___cls', 'nsp___cls']\n",
      "- This IS expected if you are initializing TFBertModel from the checkpoint of a model trained on another task or with another architecture (e.g. initializing a BertForSequenceClassification model from a BertForPreTraining model).\n",
      "- This IS NOT expected if you are initializing TFBertModel from the checkpoint of a model that you expect to be exactly identical (initializing a BertForSequenceClassification model from a BertForSequenceClassification model).\n",
      "All the layers of TFBertModel were initialized from the model checkpoint at bert-base-uncased.\n",
      "If your task is similar to the task the model of the checkpoint was trained on, you can already use TFBertModel for predictions without further training.\n"
     ]
    }
   ],
   "source": [
    "model_name = 'bert-base-uncased'\n",
    "config = BertConfig.from_pretrained(model_name, output_hidden_states=False)\n",
    "tokenizer = BertTokenizerFast.from_pretrained(pretrained_model_name_or_path = model_name, config = config)\n",
    "transformer_model = TFBertModel.from_pretrained(model_name, config = config)"
   ]
  },
  {
   "cell_type": "markdown",
   "metadata": {},
   "source": [
    "### 2.2 Model architecture"
   ]
  },
  {
   "cell_type": "markdown",
   "metadata": {},
   "source": [
    "model takes three inputs that result from tokenization:\n",
    "\n",
    "- `input_ids`: indices of input sequence tokens in the vocabulary\n",
    "- `token_type_ids`: Segment token indices to indicate first and second portions of the inputs. 0 for sentence A and 1 for sentence B\n",
    "- `attention mask`: Mask to avoid performing attention on padding token indices. 0 for masked and 1 for not masked\n",
    "\n",
    "We have a sigmoided output layer in the model because it is more appropriate than a softmax layer.\n",
    "  This is because we are trying to predict the probability of each label and not the label itself.\n"
   ]
  },
  {
   "cell_type": "code",
   "execution_count": 134,
   "metadata": {},
   "outputs": [],
   "source": [
    "def my_model(n_labels):\n",
    "\n",
    "  # Load the MainLayer\n",
    "  bert = transformer_model.layers[0]\n",
    "\n",
    "  ## INPUTS\n",
    "  input_ids = Input(shape=(max_length,), name='input_ids', dtype='int32')\n",
    "  attention_mask = Input(shape=(max_length,), name='attention_mask', dtype='int32')\n",
    "  token_type_ids = Input(shape=(max_length,), name='token_type_ids', dtype='int32')\n",
    "  inputs = {'input_ids': input_ids, 'attention_mask': attention_mask, 'token_type_ids': token_type_ids}\n",
    "\n",
    "  ## LAYERS\n",
    "  bert_model = bert(inputs)[1]\n",
    "  dropout = Dropout(config.hidden_dropout_prob, name='pooled_output')\n",
    "  pooled_output = dropout(bert_model, training=False)\n",
    "\n",
    "  ## OUTPUT\n",
    "  emotion = Dense(units=n_labels, activation='sigmoid', kernel_initializer=TruncatedNormal(stddev=config.initializer_range), name='emotion')(pooled_output)\n",
    "  outputs = emotion\n",
    "\n",
    "  model = Model(inputs=inputs, outputs=outputs, name='BERT_Emotion_Classifier')\n",
    "\n",
    "  return model"
   ]
  },
  {
   "cell_type": "code",
   "execution_count": 136,
   "metadata": {},
   "outputs": [
    {
     "name": "stdout",
     "output_type": "stream",
     "text": [
      "Model: \"BERT_Emotion_Classifier\"\n",
      "__________________________________________________________________________________________________\n",
      " Layer (type)                   Output Shape         Param #     Connected to                     \n",
      "==================================================================================================\n",
      " attention_mask (InputLayer)    [(None, 33)]         0           []                               \n",
      "                                                                                                  \n",
      " input_ids (InputLayer)         [(None, 33)]         0           []                               \n",
      "                                                                                                  \n",
      " token_type_ids (InputLayer)    [(None, 33)]         0           []                               \n",
      "                                                                                                  \n",
      " bert (TFBertMainLayer)         TFBaseModelOutputWi  109482240   ['attention_mask[0][0]',         \n",
      "                                thPoolingAndCrossAt               'input_ids[0][0]',              \n",
      "                                tentions(last_hidde               'token_type_ids[0][0]']         \n",
      "                                n_state=(None, 33,                                                \n",
      "                                768),                                                             \n",
      "                                 pooler_output=(Non                                               \n",
      "                                e, 768),                                                          \n",
      "                                 past_key_values=No                                               \n",
      "                                ne, hidden_states=N                                               \n",
      "                                one, attentions=Non                                               \n",
      "                                e, cross_attentions                                               \n",
      "                                =None)                                                            \n",
      "                                                                                                  \n",
      " pooled_output (Dropout)        (None, 768)          0           ['bert[1][1]']                   \n",
      "                                                                                                  \n",
      " emotion (Dense)                (None, 7)            5383        ['pooled_output[0][0]']          \n",
      "                                                                                                  \n",
      "==================================================================================================\n",
      "Total params: 109,487,623\n",
      "Trainable params: 109,487,623\n",
      "Non-trainable params: 0\n",
      "__________________________________________________________________________________________________\n"
     ]
    }
   ],
   "source": [
    "model = my_model(len(ekman_map))\n",
    "model.summary()"
   ]
  },
  {
   "cell_type": "code",
   "execution_count": 142,
   "metadata": {},
   "outputs": [
    {
     "name": "stdout",
     "output_type": "stream",
     "text": [
      "You must install pydot (`pip install pydot`) and install graphviz (see instructions at https://graphviz.gitlab.io/download/) for plot_model/model_to_dot to work.\n"
     ]
    }
   ],
   "source": [
    "plot_model(model, show_shapes=True, show_layer_names=True)"
   ]
  },
  {
   "cell_type": "code",
   "execution_count": null,
   "metadata": {},
   "outputs": [],
   "source": []
  }
 ],
 "metadata": {
  "interpreter": {
   "hash": "29c75b1f656e0b1ae38298d922e204e268fabb475feb2323015295e781085b10"
  },
  "kernelspec": {
   "display_name": "Python 3.9.11 ('ml')",
   "language": "python",
   "name": "python3"
  },
  "language_info": {
   "codemirror_mode": {
    "name": "ipython",
    "version": 3
   },
   "file_extension": ".py",
   "mimetype": "text/x-python",
   "name": "python",
   "nbconvert_exporter": "python",
   "pygments_lexer": "ipython3",
   "version": "3.9.7"
  },
  "orig_nbformat": 4
 },
 "nbformat": 4,
 "nbformat_minor": 2
}
