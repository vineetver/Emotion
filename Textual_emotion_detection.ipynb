{
 "cells": [
  {
   "cell_type": "markdown",
   "metadata": {
    "pycharm": {
     "name": "#%% md\n"
    }
   },
   "source": [
    "# 1. Importing libraries and loading Data"
   ]
  },
  {
   "cell_type": "markdown",
   "metadata": {
    "pycharm": {
     "name": "#%% md\n"
    }
   },
   "source": [
    "### 1.1 Installing necessary libraries\n"
   ]
  },
  {
   "cell_type": "code",
   "execution_count": 2,
   "metadata": {
    "pycharm": {
     "name": "#%%\n"
    }
   },
   "outputs": [
    {
     "data": {
      "text/plain": [
       "'\\n%pip install emoji\\n%pip install tensorflow\\n%pip install transformers\\n%pip install pandas\\n%pip install sklearn\\n%pip install matplotlib\\n%pip install seaborn\\n'"
      ]
     },
     "execution_count": 2,
     "metadata": {},
     "output_type": "execute_result"
    }
   ],
   "source": [
    "\"\"\"\n",
    "%pip install emoji\n",
    "%pip install tensorflow\n",
    "%pip install transformers\n",
    "%pip install pandas\n",
    "%pip install sklearn\n",
    "%pip install matplotlib\n",
    "%pip install seaborn\n",
    "\"\"\"\n"
   ]
  },
  {
   "cell_type": "code",
   "execution_count": 71,
   "metadata": {
    "pycharm": {
     "name": "#%%\n"
    }
   },
   "outputs": [],
   "source": [
    "import pandas as pd\n",
    "import matplotlib.pyplot as plt\n",
    "import seaborn as sns\n",
    "import numpy as np\n",
    "import emoji\n",
    "import re\n",
    "import string\n",
    "from transformers import TFBertModel, BertTokenizerFast, BertConfig\n",
    "import tensorflow as tf\n",
    "from keras.layers import Input, Dropout, Dense, BatchNormalization\n",
    "from keras.models import Model\n",
    "from sklearn.metrics import f1_score, recall_score, precision_score\n",
    "from tensorflow.keras.utils import plot_model\n",
    "from keras.initializers import TruncatedNormal\n",
    "import keras.backend as K"
   ]
  },
  {
   "cell_type": "markdown",
   "metadata": {
    "pycharm": {
     "name": "#%% md\n"
    }
   },
   "source": [
    "### 1.2 Plot Defaults\n"
   ]
  },
  {
   "cell_type": "code",
   "execution_count": 2,
   "metadata": {
    "pycharm": {
     "name": "#%%\n"
    }
   },
   "outputs": [],
   "source": [
    "colors = sns.color_palette('rocket_r')\n",
    "sns.set_palette('rocket_r')"
   ]
  },
  {
   "cell_type": "markdown",
   "metadata": {
    "pycharm": {
     "name": "#%% md\n"
    }
   },
   "source": [
    "### 1.3 Helper Functions"
   ]
  },
  {
   "cell_type": "code",
   "execution_count": 11,
   "metadata": {
    "pycharm": {
     "name": "#%%\n"
    }
   },
   "outputs": [],
   "source": [
    "def idx2class(idx_list):\n",
    "    \"\"\"\n",
    "    This function converts a list of class indices to a list of class labels.\n",
    "\n",
    "    Parameters\n",
    "    ----------\n",
    "    idx_list : list\n",
    "        List of class indices.\n",
    "    \n",
    "    Returns\n",
    "    -------\n",
    "    class_list : list\n",
    "        List of class labels.\n",
    "    \"\"\"\n",
    "    arr = []\n",
    "    for i in idx_list:\n",
    "        arr.append(labels[int(i)])\n",
    "    return arr\n",
    "\n",
    "def EmotionMapping(list_of_emotions):\n",
    "    list = []  \n",
    "    for i in list_of_emotions:\n",
    "        if i in ekman_map['anger']:\n",
    "            list.append('anger')\n",
    "        if i in ekman_map['disgust']:\n",
    "            list.append('disgust')\n",
    "        if i in ekman_map['fear']:\n",
    "            list.append('fear')\n",
    "        if i in ekman_map['joy']:\n",
    "            list.append('joy')\n",
    "        if i in ekman_map['sadness']:\n",
    "            list.append('sadness')\n",
    "        if i in ekman_map['surprise']:\n",
    "            list.append('surprise')\n",
    "        if i == 'neutral':\n",
    "            list.append('neutral')      \n",
    "    return list\n",
    "\n",
    "def SentimentMapping(list_of_emotions):\n",
    "    list = []  \n",
    "    for i in list_of_emotions:\n",
    "        if i in sentiment_map['positive']:\n",
    "            list.append('positive')\n",
    "        if i in sentiment_map['negative']:\n",
    "            list.append('negative')\n",
    "        if i in sentiment_map['ambiguous']:\n",
    "            list.append('ambiguous')\n",
    "    return list"
   ]
  },
  {
   "cell_type": "markdown",
   "metadata": {
    "pycharm": {
     "name": "#%% md\n"
    }
   },
   "source": [
    "### 1.4 Loading data"
   ]
  },
  {
   "cell_type": "code",
   "execution_count": 3,
   "metadata": {
    "pycharm": {
     "name": "#%%\n"
    }
   },
   "outputs": [],
   "source": [
    "train_url = 'https://github.com/google-research/google-research/raw/master/goemotions/data/train.tsv'\n",
    "valid_url = 'https://github.com/google-research/google-research/raw/master/goemotions/data/dev.tsv'\n",
    "test_url = 'https://github.com/google-research/google-research/raw/master/goemotions/data/test.tsv'"
   ]
  },
  {
   "cell_type": "code",
   "execution_count": 4,
   "metadata": {
    "pycharm": {
     "name": "#%%\n"
    }
   },
   "outputs": [],
   "source": [
    "train_df = pd.read_csv(train_url, sep='\\t', encoding='utf-8',\n",
    "                       names=['text', 'emotion', 'annotator'], header=None)\n",
    "valid_df = pd.read_csv(valid_url, sep='\\t', encoding='utf-8',\n",
    "                       names=['text', 'emotion', 'annotator'], header=None)\n",
    "test_df = pd.read_csv(test_url, sep='\\t', encoding='utf-8',\n",
    "                      names=['text', 'emotion', 'annotator'], header=None)"
   ]
  },
  {
   "cell_type": "code",
   "execution_count": 5,
   "metadata": {
    "pycharm": {
     "name": "#%%\n"
    }
   },
   "outputs": [
    {
     "data": {
      "text/html": [
       "<div>\n",
       "<style scoped>\n",
       "    .dataframe tbody tr th:only-of-type {\n",
       "        vertical-align: middle;\n",
       "    }\n",
       "\n",
       "    .dataframe tbody tr th {\n",
       "        vertical-align: top;\n",
       "    }\n",
       "\n",
       "    .dataframe thead th {\n",
       "        text-align: right;\n",
       "    }\n",
       "</style>\n",
       "<table border=\"1\" class=\"dataframe\">\n",
       "  <thead>\n",
       "    <tr style=\"text-align: right;\">\n",
       "      <th></th>\n",
       "      <th>text</th>\n",
       "      <th>emotion</th>\n",
       "      <th>annotator</th>\n",
       "    </tr>\n",
       "  </thead>\n",
       "  <tbody>\n",
       "    <tr>\n",
       "      <th>0</th>\n",
       "      <td>My favourite food is anything I didn't have to...</td>\n",
       "      <td>27</td>\n",
       "      <td>eebbqej</td>\n",
       "    </tr>\n",
       "    <tr>\n",
       "      <th>1</th>\n",
       "      <td>Now if he does off himself, everyone will thin...</td>\n",
       "      <td>27</td>\n",
       "      <td>ed00q6i</td>\n",
       "    </tr>\n",
       "  </tbody>\n",
       "</table>\n",
       "</div>"
      ],
      "text/plain": [
       "                                                text emotion annotator\n",
       "0  My favourite food is anything I didn't have to...      27   eebbqej\n",
       "1  Now if he does off himself, everyone will thin...      27   ed00q6i"
      ]
     },
     "execution_count": 5,
     "metadata": {},
     "output_type": "execute_result"
    }
   ],
   "source": [
    "train_df.head(2)"
   ]
  },
  {
   "cell_type": "code",
   "execution_count": 6,
   "metadata": {
    "pycharm": {
     "name": "#%%\n"
    }
   },
   "outputs": [
    {
     "name": "stdout",
     "output_type": "stream",
     "text": [
      "<class 'pandas.core.frame.DataFrame'>\n",
      "RangeIndex: 43410 entries, 0 to 43409\n",
      "Data columns (total 3 columns):\n",
      " #   Column     Non-Null Count  Dtype \n",
      "---  ------     --------------  ----- \n",
      " 0   text       43410 non-null  object\n",
      " 1   emotion    43410 non-null  object\n",
      " 2   annotator  43410 non-null  object\n",
      "dtypes: object(3)\n",
      "memory usage: 1017.5+ KB\n"
     ]
    }
   ],
   "source": [
    "train_df.info()"
   ]
  },
  {
   "cell_type": "markdown",
   "metadata": {
    "pycharm": {
     "name": "#%% md\n"
    }
   },
   "source": [
    "### 1.5 Preprocessing"
   ]
  },
  {
   "cell_type": "markdown",
   "metadata": {
    "pycharm": {
     "name": "#%% md\n"
    }
   },
   "source": [
    "Column 2 \"annotator\" is unnecessary, so we can drop it.\n"
   ]
  },
  {
   "cell_type": "code",
   "execution_count": 7,
   "metadata": {
    "pycharm": {
     "name": "#%%\n"
    }
   },
   "outputs": [],
   "source": [
    "train_df.drop('annotator', axis=1, inplace=True)\n",
    "valid_df.drop('annotator', axis=1, inplace=True)\n",
    "test_df.drop('annotator', axis=1, inplace=True)"
   ]
  },
  {
   "cell_type": "markdown",
   "metadata": {
    "pycharm": {
     "name": "#%% md\n"
    }
   },
   "source": [
    "Dictionaries for mapping emotions to indices and vice versa. \n",
    "\n",
    "The variable `ekman_map` is used to map 27 emotions to 7 emotions. This is done to reduce the number of classes.\n",
    "\n",
    "The 27 emotions can also be mapped to the 3 emotions using the `sentiment_map` dictionary for sentiment analysis tasks.\n"
   ]
  },
  {
   "cell_type": "code",
   "execution_count": 8,
   "metadata": {
    "pycharm": {
     "name": "#%%\n"
    }
   },
   "outputs": [],
   "source": [
    "labels = {\n",
    "    0: 'admiration',\n",
    "    1: 'amusement',\n",
    "    2: 'anger',\n",
    "    3: 'annoyance',\n",
    "    4: 'approval',\n",
    "    5: 'caring',\n",
    "    6: 'confusion',\n",
    "    7: 'curiosity',\n",
    "    8: 'desire',\n",
    "    9: 'disappointment',\n",
    "    10: 'disapproval',\n",
    "    11: 'disgust',\n",
    "    12: 'embarrassment',\n",
    "    13: 'excitement',\n",
    "    14: 'fear',\n",
    "    15: 'gratitude',\n",
    "    16: 'grief',\n",
    "    17: 'joy',\n",
    "    18: 'love',\n",
    "    19: 'nervousness',\n",
    "    20: 'optimism',\n",
    "    21: 'pride',\n",
    "    22: 'realization',\n",
    "    23: 'relief',\n",
    "    24: 'remorse',\n",
    "    25: 'sadness',\n",
    "    26: 'surprise',\n",
    "    27: 'neutral'\n",
    "}\n",
    "\n",
    "ekman_map = {\n",
    "    'anger': ['anger', 'annoyance', 'disapproval'],\n",
    "    'disgust': ['disgust'],\n",
    "    'fear': ['fear', 'nervousness'],\n",
    "    'joy': ['joy', 'amusement', 'approval', 'excitement', 'gratitude',  'love', 'optimism', 'relief', 'pride', 'admiration', 'desire', 'caring'],\n",
    "    'sadness': ['sadness', 'disappointment', 'embarrassment', 'grief',  'remorse'],\n",
    "    'surprise': ['surprise', 'realization', 'confusion', 'curiosity'],\n",
    "    'neutral': ['neutral']\n",
    "}\n",
    "\n",
    "sentiment_map = {\n",
    "    \"positive\": [\"amusement\", \"excitement\", \"joy\", \"love\", \"desire\", \"optimism\", \"caring\", \"pride\", \"admiration\", \"gratitude\", \"relief\", \"approval\"],\n",
    "    \"negative\": [\"fear\", \"nervousness\", \"remorse\", \"embarrassment\", \"disappointment\", \"sadness\", \"grief\", \"disgust\", \"anger\", \"annoyance\", \"disapproval\"],\n",
    "    \"ambiguous\": [\"realization\", \"surprise\", \"curiosity\", \"confusion\", \"neutral\"]\n",
    "}"
   ]
  },
  {
   "cell_type": "markdown",
   "metadata": {
    "pycharm": {
     "name": "#%% md\n"
    }
   },
   "source": [
    "First, let's extract all emotions from the each example and store them in a list."
   ]
  },
  {
   "cell_type": "code",
   "execution_count": 9,
   "metadata": {
    "pycharm": {
     "name": "#%%\n"
    }
   },
   "outputs": [],
   "source": [
    "train_df['list of emotions'] = train_df['emotion'].apply(lambda x: x.split(','))\n",
    "test_df['list of emotions'] = test_df['emotion'].apply(lambda x: x.split(','))\n",
    "valid_df['list of emotions'] = valid_df['emotion'].apply(lambda x: x.split(','))"
   ]
  },
  {
   "cell_type": "markdown",
   "metadata": {
    "pycharm": {
     "name": "#%% md\n"
    }
   },
   "source": [
    "We can then apply index to class mapping to get the class labels for each row"
   ]
  },
  {
   "cell_type": "code",
   "execution_count": 12,
   "metadata": {
    "pycharm": {
     "name": "#%%\n"
    }
   },
   "outputs": [],
   "source": [
    "train_df['emotion'] = train_df['list of emotions'].apply(lambda x: idx2class(x))\n",
    "test_df['emotion'] = test_df['list of emotions'].apply(lambda x: idx2class(x))\n",
    "valid_df['emotion'] = valid_df['list of emotions'].apply(lambda x: idx2class(x))"
   ]
  },
  {
   "cell_type": "markdown",
   "metadata": {
    "pycharm": {
     "name": "#%% md\n"
    }
   },
   "source": [
    "Finally, we can reduce the number of classes to 7 by using the EmotionMapping function."
   ]
  },
  {
   "cell_type": "code",
   "execution_count": 13,
   "metadata": {
    "pycharm": {
     "name": "#%%\n"
    }
   },
   "outputs": [],
   "source": [
    "train_df['ekman_emotion'] = train_df['emotion'].apply(lambda x: EmotionMapping(x))\n",
    "test_df['ekman_emotion'] = test_df['emotion'].apply(lambda x: EmotionMapping(x))\n",
    "valid_df['ekman_emotion'] = valid_df['emotion'].apply(lambda x: EmotionMapping(x))"
   ]
  },
  {
   "cell_type": "code",
   "execution_count": 14,
   "metadata": {
    "pycharm": {
     "name": "#%%\n"
    }
   },
   "outputs": [
    {
     "data": {
      "text/html": [
       "<div>\n",
       "<style scoped>\n",
       "    .dataframe tbody tr th:only-of-type {\n",
       "        vertical-align: middle;\n",
       "    }\n",
       "\n",
       "    .dataframe tbody tr th {\n",
       "        vertical-align: top;\n",
       "    }\n",
       "\n",
       "    .dataframe thead th {\n",
       "        text-align: right;\n",
       "    }\n",
       "</style>\n",
       "<table border=\"1\" class=\"dataframe\">\n",
       "  <thead>\n",
       "    <tr style=\"text-align: right;\">\n",
       "      <th></th>\n",
       "      <th>text</th>\n",
       "      <th>emotion</th>\n",
       "      <th>list of emotions</th>\n",
       "      <th>ekman_emotion</th>\n",
       "    </tr>\n",
       "  </thead>\n",
       "  <tbody>\n",
       "    <tr>\n",
       "      <th>0</th>\n",
       "      <td>My favourite food is anything I didn't have to...</td>\n",
       "      <td>[neutral]</td>\n",
       "      <td>[27]</td>\n",
       "      <td>[neutral]</td>\n",
       "    </tr>\n",
       "    <tr>\n",
       "      <th>1</th>\n",
       "      <td>Now if he does off himself, everyone will thin...</td>\n",
       "      <td>[neutral]</td>\n",
       "      <td>[27]</td>\n",
       "      <td>[neutral]</td>\n",
       "    </tr>\n",
       "    <tr>\n",
       "      <th>2</th>\n",
       "      <td>WHY THE FUCK IS BAYLESS ISOING</td>\n",
       "      <td>[anger]</td>\n",
       "      <td>[2]</td>\n",
       "      <td>[anger]</td>\n",
       "    </tr>\n",
       "    <tr>\n",
       "      <th>3</th>\n",
       "      <td>To make her feel threatened</td>\n",
       "      <td>[fear]</td>\n",
       "      <td>[14]</td>\n",
       "      <td>[fear]</td>\n",
       "    </tr>\n",
       "    <tr>\n",
       "      <th>4</th>\n",
       "      <td>Dirty Southern Wankers</td>\n",
       "      <td>[annoyance]</td>\n",
       "      <td>[3]</td>\n",
       "      <td>[anger]</td>\n",
       "    </tr>\n",
       "    <tr>\n",
       "      <th>5</th>\n",
       "      <td>OmG pEyToN iSn'T gOoD eNoUgH tO hElP uS iN tHe...</td>\n",
       "      <td>[surprise]</td>\n",
       "      <td>[26]</td>\n",
       "      <td>[surprise]</td>\n",
       "    </tr>\n",
       "    <tr>\n",
       "      <th>6</th>\n",
       "      <td>Yes I heard abt the f bombs! That has to be wh...</td>\n",
       "      <td>[gratitude]</td>\n",
       "      <td>[15]</td>\n",
       "      <td>[joy]</td>\n",
       "    </tr>\n",
       "    <tr>\n",
       "      <th>7</th>\n",
       "      <td>We need more boards and to create a bit more s...</td>\n",
       "      <td>[desire, optimism]</td>\n",
       "      <td>[8, 20]</td>\n",
       "      <td>[joy, joy]</td>\n",
       "    </tr>\n",
       "    <tr>\n",
       "      <th>8</th>\n",
       "      <td>Damn youtube and outrage drama is super lucrat...</td>\n",
       "      <td>[admiration]</td>\n",
       "      <td>[0]</td>\n",
       "      <td>[joy]</td>\n",
       "    </tr>\n",
       "    <tr>\n",
       "      <th>9</th>\n",
       "      <td>It might be linked to the trust factor of your...</td>\n",
       "      <td>[neutral]</td>\n",
       "      <td>[27]</td>\n",
       "      <td>[neutral]</td>\n",
       "    </tr>\n",
       "  </tbody>\n",
       "</table>\n",
       "</div>"
      ],
      "text/plain": [
       "                                                text             emotion  \\\n",
       "0  My favourite food is anything I didn't have to...           [neutral]   \n",
       "1  Now if he does off himself, everyone will thin...           [neutral]   \n",
       "2                     WHY THE FUCK IS BAYLESS ISOING             [anger]   \n",
       "3                        To make her feel threatened              [fear]   \n",
       "4                             Dirty Southern Wankers         [annoyance]   \n",
       "5  OmG pEyToN iSn'T gOoD eNoUgH tO hElP uS iN tHe...          [surprise]   \n",
       "6  Yes I heard abt the f bombs! That has to be wh...         [gratitude]   \n",
       "7  We need more boards and to create a bit more s...  [desire, optimism]   \n",
       "8  Damn youtube and outrage drama is super lucrat...        [admiration]   \n",
       "9  It might be linked to the trust factor of your...           [neutral]   \n",
       "\n",
       "  list of emotions ekman_emotion  \n",
       "0             [27]     [neutral]  \n",
       "1             [27]     [neutral]  \n",
       "2              [2]       [anger]  \n",
       "3             [14]        [fear]  \n",
       "4              [3]       [anger]  \n",
       "5             [26]    [surprise]  \n",
       "6             [15]         [joy]  \n",
       "7          [8, 20]    [joy, joy]  \n",
       "8              [0]         [joy]  \n",
       "9             [27]     [neutral]  "
      ]
     },
     "execution_count": 14,
     "metadata": {},
     "output_type": "execute_result"
    }
   ],
   "source": [
    "train_df.head(10)"
   ]
  },
  {
   "cell_type": "code",
   "execution_count": 15,
   "metadata": {
    "pycharm": {
     "name": "#%%\n"
    }
   },
   "outputs": [],
   "source": [
    "def clean_text(text):\n",
    "    \"\"\"\n",
    "    This function cleans the text in the dataframe and returns a list of cleaned text.\n",
    "    text: a string\n",
    "\n",
    "    return: modified initial string\n",
    "    \"\"\"\n",
    "    # Removing Emojis\n",
    "    text = emoji.demojize(text)  # remove emojis\n",
    "    text = str(text).lower()  # text to lower case\n",
    "    text = re.sub(r'[%s]' % re.escape(string.punctuation), ' ', text)  # remove punctuation\n",
    "    return text"
   ]
  },
  {
   "cell_type": "markdown",
   "metadata": {
    "pycharm": {
     "name": "#%% md\n"
    }
   },
   "source": [
    "One hot encoding of emotions "
   ]
  },
  {
   "cell_type": "code",
   "execution_count": 16,
   "metadata": {
    "pycharm": {
     "name": "#%%\n"
    }
   },
   "outputs": [],
   "source": [
    "for i in ekman_map:\n",
    "    train_df[i] = train_df['ekman_emotion'].apply(lambda x: 1 if i in x else 0)\n",
    "    test_df[i] = test_df['ekman_emotion'].apply(lambda x: 1 if i in x else 0)\n",
    "    valid_df[i] = valid_df['ekman_emotion'].apply(lambda x: 1 if i in x else 0)"
   ]
  },
  {
   "cell_type": "code",
   "execution_count": 63,
   "metadata": {
    "pycharm": {
     "name": "#%%\n"
    }
   },
   "outputs": [
    {
     "data": {
      "text/html": [
       "<div>\n",
       "<style scoped>\n",
       "    .dataframe tbody tr th:only-of-type {\n",
       "        vertical-align: middle;\n",
       "    }\n",
       "\n",
       "    .dataframe tbody tr th {\n",
       "        vertical-align: top;\n",
       "    }\n",
       "\n",
       "    .dataframe thead th {\n",
       "        text-align: right;\n",
       "    }\n",
       "</style>\n",
       "<table border=\"1\" class=\"dataframe\">\n",
       "  <thead>\n",
       "    <tr style=\"text-align: right;\">\n",
       "      <th></th>\n",
       "      <th>text</th>\n",
       "      <th>emotion</th>\n",
       "      <th>list of emotions</th>\n",
       "      <th>ekman_emotion</th>\n",
       "      <th>anger</th>\n",
       "      <th>disgust</th>\n",
       "      <th>fear</th>\n",
       "      <th>joy</th>\n",
       "      <th>sadness</th>\n",
       "      <th>surprise</th>\n",
       "      <th>neutral</th>\n",
       "    </tr>\n",
       "  </thead>\n",
       "  <tbody>\n",
       "    <tr>\n",
       "      <th>0</th>\n",
       "      <td>My favourite food is anything I didn't have to...</td>\n",
       "      <td>[neutral]</td>\n",
       "      <td>[27]</td>\n",
       "      <td>[neutral]</td>\n",
       "      <td>0</td>\n",
       "      <td>0</td>\n",
       "      <td>0</td>\n",
       "      <td>0</td>\n",
       "      <td>0</td>\n",
       "      <td>0</td>\n",
       "      <td>1</td>\n",
       "    </tr>\n",
       "    <tr>\n",
       "      <th>1</th>\n",
       "      <td>Now if he does off himself, everyone will thin...</td>\n",
       "      <td>[neutral]</td>\n",
       "      <td>[27]</td>\n",
       "      <td>[neutral]</td>\n",
       "      <td>0</td>\n",
       "      <td>0</td>\n",
       "      <td>0</td>\n",
       "      <td>0</td>\n",
       "      <td>0</td>\n",
       "      <td>0</td>\n",
       "      <td>1</td>\n",
       "    </tr>\n",
       "    <tr>\n",
       "      <th>2</th>\n",
       "      <td>WHY THE FUCK IS BAYLESS ISOING</td>\n",
       "      <td>[anger]</td>\n",
       "      <td>[2]</td>\n",
       "      <td>[anger]</td>\n",
       "      <td>1</td>\n",
       "      <td>0</td>\n",
       "      <td>0</td>\n",
       "      <td>0</td>\n",
       "      <td>0</td>\n",
       "      <td>0</td>\n",
       "      <td>0</td>\n",
       "    </tr>\n",
       "    <tr>\n",
       "      <th>3</th>\n",
       "      <td>To make her feel threatened</td>\n",
       "      <td>[fear]</td>\n",
       "      <td>[14]</td>\n",
       "      <td>[fear]</td>\n",
       "      <td>0</td>\n",
       "      <td>0</td>\n",
       "      <td>1</td>\n",
       "      <td>0</td>\n",
       "      <td>0</td>\n",
       "      <td>0</td>\n",
       "      <td>0</td>\n",
       "    </tr>\n",
       "    <tr>\n",
       "      <th>4</th>\n",
       "      <td>Dirty Southern Wankers</td>\n",
       "      <td>[annoyance]</td>\n",
       "      <td>[3]</td>\n",
       "      <td>[anger]</td>\n",
       "      <td>1</td>\n",
       "      <td>0</td>\n",
       "      <td>0</td>\n",
       "      <td>0</td>\n",
       "      <td>0</td>\n",
       "      <td>0</td>\n",
       "      <td>0</td>\n",
       "    </tr>\n",
       "    <tr>\n",
       "      <th>5</th>\n",
       "      <td>OmG pEyToN iSn'T gOoD eNoUgH tO hElP uS iN tHe...</td>\n",
       "      <td>[surprise]</td>\n",
       "      <td>[26]</td>\n",
       "      <td>[surprise]</td>\n",
       "      <td>0</td>\n",
       "      <td>0</td>\n",
       "      <td>0</td>\n",
       "      <td>0</td>\n",
       "      <td>0</td>\n",
       "      <td>1</td>\n",
       "      <td>0</td>\n",
       "    </tr>\n",
       "    <tr>\n",
       "      <th>6</th>\n",
       "      <td>Yes I heard abt the f bombs! That has to be wh...</td>\n",
       "      <td>[gratitude]</td>\n",
       "      <td>[15]</td>\n",
       "      <td>[joy]</td>\n",
       "      <td>0</td>\n",
       "      <td>0</td>\n",
       "      <td>0</td>\n",
       "      <td>1</td>\n",
       "      <td>0</td>\n",
       "      <td>0</td>\n",
       "      <td>0</td>\n",
       "    </tr>\n",
       "    <tr>\n",
       "      <th>7</th>\n",
       "      <td>We need more boards and to create a bit more s...</td>\n",
       "      <td>[desire, optimism]</td>\n",
       "      <td>[8, 20]</td>\n",
       "      <td>[joy, joy]</td>\n",
       "      <td>0</td>\n",
       "      <td>0</td>\n",
       "      <td>0</td>\n",
       "      <td>1</td>\n",
       "      <td>0</td>\n",
       "      <td>0</td>\n",
       "      <td>0</td>\n",
       "    </tr>\n",
       "    <tr>\n",
       "      <th>8</th>\n",
       "      <td>Damn youtube and outrage drama is super lucrat...</td>\n",
       "      <td>[admiration]</td>\n",
       "      <td>[0]</td>\n",
       "      <td>[joy]</td>\n",
       "      <td>0</td>\n",
       "      <td>0</td>\n",
       "      <td>0</td>\n",
       "      <td>1</td>\n",
       "      <td>0</td>\n",
       "      <td>0</td>\n",
       "      <td>0</td>\n",
       "    </tr>\n",
       "    <tr>\n",
       "      <th>9</th>\n",
       "      <td>It might be linked to the trust factor of your...</td>\n",
       "      <td>[neutral]</td>\n",
       "      <td>[27]</td>\n",
       "      <td>[neutral]</td>\n",
       "      <td>0</td>\n",
       "      <td>0</td>\n",
       "      <td>0</td>\n",
       "      <td>0</td>\n",
       "      <td>0</td>\n",
       "      <td>0</td>\n",
       "      <td>1</td>\n",
       "    </tr>\n",
       "  </tbody>\n",
       "</table>\n",
       "</div>"
      ],
      "text/plain": [
       "                                                text             emotion  \\\n",
       "0  My favourite food is anything I didn't have to...           [neutral]   \n",
       "1  Now if he does off himself, everyone will thin...           [neutral]   \n",
       "2                     WHY THE FUCK IS BAYLESS ISOING             [anger]   \n",
       "3                        To make her feel threatened              [fear]   \n",
       "4                             Dirty Southern Wankers         [annoyance]   \n",
       "5  OmG pEyToN iSn'T gOoD eNoUgH tO hElP uS iN tHe...          [surprise]   \n",
       "6  Yes I heard abt the f bombs! That has to be wh...         [gratitude]   \n",
       "7  We need more boards and to create a bit more s...  [desire, optimism]   \n",
       "8  Damn youtube and outrage drama is super lucrat...        [admiration]   \n",
       "9  It might be linked to the trust factor of your...           [neutral]   \n",
       "\n",
       "  list of emotions ekman_emotion  anger  disgust  fear  joy  sadness  \\\n",
       "0             [27]     [neutral]      0        0     0    0        0   \n",
       "1             [27]     [neutral]      0        0     0    0        0   \n",
       "2              [2]       [anger]      1        0     0    0        0   \n",
       "3             [14]        [fear]      0        0     1    0        0   \n",
       "4              [3]       [anger]      1        0     0    0        0   \n",
       "5             [26]    [surprise]      0        0     0    0        0   \n",
       "6             [15]         [joy]      0        0     0    1        0   \n",
       "7          [8, 20]    [joy, joy]      0        0     0    1        0   \n",
       "8              [0]         [joy]      0        0     0    1        0   \n",
       "9             [27]     [neutral]      0        0     0    0        0   \n",
       "\n",
       "   surprise  neutral  \n",
       "0         0        1  \n",
       "1         0        1  \n",
       "2         0        0  \n",
       "3         0        0  \n",
       "4         0        0  \n",
       "5         1        0  \n",
       "6         0        0  \n",
       "7         0        0  \n",
       "8         0        0  \n",
       "9         0        1  "
      ]
     },
     "execution_count": 63,
     "metadata": {},
     "output_type": "execute_result"
    }
   ],
   "source": [
    "train_df.head(10)"
   ]
  },
  {
   "cell_type": "markdown",
   "metadata": {
    "pycharm": {
     "name": "#%% md\n"
    }
   },
   "source": [
    "### 1.6 Visualization"
   ]
  },
  {
   "cell_type": "markdown",
   "metadata": {
    "pycharm": {
     "name": "#%% md\n"
    }
   },
   "source": [
    "Bar plot of distribution of emotions"
   ]
  },
  {
   "cell_type": "code",
   "execution_count": 17,
   "metadata": {
    "pycharm": {
     "name": "#%%\n"
    }
   },
   "outputs": [
    {
     "data": {
      "image/png": "[encoded data removed]",
      "text/plain": [
       "<Figure size 864x576 with 1 Axes>"
      ]
     },
     "metadata": {
      "needs_background": "light"
     },
     "output_type": "display_data"
    }
   ],
   "source": [
    "labels_summary = train_df.iloc[:, 4:].sum()\n",
    "labels_summary.sort_values(ascending=False, inplace=True)\n",
    "\n",
    "fig = plt.figure(figsize=(12, 8))\n",
    "sns.barplot(x=labels_summary.index,\n",
    "            y=labels_summary.values, palette='rocket_r')\n",
    "plt.xticks(rotation=45)\n",
    "plt.ylabel('Frequency')\n",
    "plt.show()"
   ]
  },
  {
   "cell_type": "markdown",
   "metadata": {
    "pycharm": {
     "name": "#%% md\n"
    }
   },
   "source": [
    "Number of emotions in each sample"
   ]
  },
  {
   "cell_type": "code",
   "execution_count": 18,
   "metadata": {
    "pycharm": {
     "name": "#%%\n"
    }
   },
   "outputs": [
    {
     "data": {
      "image/png": "[encoded data removed]",
      "text/plain": [
       "<Figure size 864x576 with 1 Axes>"
      ]
     },
     "metadata": {
      "needs_background": "light"
     },
     "output_type": "display_data"
    }
   ],
   "source": [
    "train_df['n_emotions'] = train_df.iloc[:, 4:].apply(lambda x: x.sum(), axis=1)\n",
    "\n",
    "fig = plt.figure(figsize=(12, 8))\n",
    "sns.countplot(x='n_emotions', data=train_df, palette='rocket_r')\n",
    "plt.xticks(rotation=45)\n",
    "plt.title('Number of emotions per sample')\n",
    "plt.ylabel('Frequency')\n",
    "plt.xlabel('Number of emotions')\n",
    "plt.show()"
   ]
  },
  {
   "cell_type": "markdown",
   "metadata": {
    "pycharm": {
     "name": "#%% md\n"
    }
   },
   "source": [
    "Distribution of text length in the train set"
   ]
  },
  {
   "cell_type": "code",
   "execution_count": 19,
   "metadata": {
    "pycharm": {
     "name": "#%%\n"
    }
   },
   "outputs": [
    {
     "data": {
      "text/plain": [
       "<Figure size 864x720 with 0 Axes>"
      ]
     },
     "metadata": {},
     "output_type": "display_data"
    },
    {
     "data": {
      "image/png": "[encoded data removed]",
      "text/plain": [
       "<Figure size 360x360 with 1 Axes>"
      ]
     },
     "metadata": {
      "needs_background": "light"
     },
     "output_type": "display_data"
    }
   ],
   "source": [
    "full_text = pd.concat([train_df['text'], valid_df['text'], test_df['text']])\n",
    "lengths = full_text.apply(lambda x: len(x.split()))\n",
    "fig = plt.figure(figsize=(12, 10))\n",
    "sns.displot(lengths, kde=True, rug=False, color=colors[5])\n",
    "plt.title('Distribution of Text Lengths')\n",
    "plt.xlabel('Text Length')\n",
    "plt.ylabel('Frequency')\n",
    "plt.xlim(0, 40)\n",
    "plt.show()"
   ]
  },
  {
   "cell_type": "markdown",
   "metadata": {
    "pycharm": {
     "name": "#%% md\n"
    }
   },
   "source": [
    "# 2. Model"
   ]
  },
  {
   "cell_type": "markdown",
   "metadata": {
    "pycharm": {
     "name": "#%% md\n"
    }
   },
   "source": [
    "### 2.1 Base model config"
   ]
  },
  {
   "cell_type": "markdown",
   "metadata": {
    "pycharm": {
     "name": "#%% md\n"
    }
   },
   "source": [
    "#### Computing max length of samples\n",
    "\n",
    "`max_length` variable is used to limit the length of the input text that is fed to the model. The sequence will be padded with the `<PAD>` token if the length of the sequence is less than `max_length` and the sequence will be truncated if the length of the sequence is more than `max_length`. This is done to ensure that the model can handle any size of input text."
   ]
  },
  {
   "cell_type": "code",
   "execution_count": 20,
   "metadata": {
    "pycharm": {
     "name": "#%%\n"
    }
   },
   "outputs": [
    {
     "data": {
      "text/plain": [
       "33"
      ]
     },
     "execution_count": 20,
     "metadata": {},
     "output_type": "execute_result"
    }
   ],
   "source": [
    "full_text = pd.concat([train_df['text'], valid_df['text'], test_df['text']])\n",
    "max_length = full_text.apply(lambda x: len(x.split())).max()\n",
    "max_length"
   ]
  },
  {
   "cell_type": "markdown",
   "metadata": {
    "pycharm": {
     "name": "#%% md\n"
    }
   },
   "source": [
    "I am going to use Google's BERT base model which contains 110M parameters."
   ]
  },
  {
   "cell_type": "code",
   "execution_count": 21,
   "metadata": {
    "pycharm": {
     "name": "#%%\n"
    }
   },
   "outputs": [
    {
     "name": "stderr",
     "output_type": "stream",
     "text": [
      "Some layers from the model checkpoint at bert-base-uncased were not used when initializing TFBertModel: ['mlm___cls', 'nsp___cls']\n",
      "- This IS expected if you are initializing TFBertModel from the checkpoint of a model trained on another task or with another architecture (e.g. initializing a BertForSequenceClassification model from a BertForPreTraining model).\n",
      "- This IS NOT expected if you are initializing TFBertModel from the checkpoint of a model that you expect to be exactly identical (initializing a BertForSequenceClassification model from a BertForSequenceClassification model).\n",
      "All the layers of TFBertModel were initialized from the model checkpoint at bert-base-uncased.\n",
      "If your task is similar to the task the model of the checkpoint was trained on, you can already use TFBertModel for predictions without further training.\n"
     ]
    }
   ],
   "source": [
    "model_name = 'bert-base-uncased'\n",
    "config = BertConfig.from_pretrained(model_name, output_hidden_states=False)\n",
    "tokenizer = BertTokenizerFast.from_pretrained(pretrained_model_name_or_path = model_name, config = config)\n",
    "transformer_model = TFBertModel.from_pretrained(model_name, config = config)"
   ]
  },
  {
   "cell_type": "markdown",
   "metadata": {
    "pycharm": {
     "name": "#%% md\n"
    }
   },
   "source": [
    "### 2.2 Model architecture"
   ]
  },
  {
   "cell_type": "markdown",
   "metadata": {
    "pycharm": {
     "name": "#%% md\n"
    }
   },
   "source": [
    "model takes three inputs that result from tokenization:\n",
    "\n",
    "- `input_ids`: indices of input sequence tokens in the vocabulary\n",
    "- `token_type_ids`: Segment token indices to indicate first and second portions of the inputs. 0 for sentence A and 1 for sentence B\n",
    "- `attention mask`: Mask to avoid performing attention on padding token indices. 0 for masked and 1 for not masked\n",
    "\n",
    "I have a sigmoided output layer in the model because it is more appropriate than a softmax layer. This is because I are trying to predict the probability of each label and not the label itself.\n"
   ]
  },
  {
   "cell_type": "code",
   "execution_count": 22,
   "metadata": {
    "pycharm": {
     "name": "#%%\n"
    }
   },
   "outputs": [],
   "source": [
    "def my_model(n_labels):\n",
    "\n",
    "  # Load the MainLayer\n",
    "  bert = transformer_model.layers[0]\n",
    "\n",
    "  ## INPUTS\n",
    "  input_ids = Input(shape=(max_length,), name='input_ids', dtype='int32')\n",
    "  attention_mask = Input(shape=(max_length,), name='attention_mask', dtype='int32')\n",
    "  token_type_ids = Input(shape=(max_length,), name='token_type_ids', dtype='int32')\n",
    "  inputs = {'input_ids': input_ids, 'attention_mask': attention_mask, 'token_type_ids': token_type_ids}\n",
    "\n",
    "  ## LAYERS\n",
    "  bert_model = bert(inputs)[1]\n",
    "  dropout = Dropout(config.hidden_dropout_prob, name='pooled_output')\n",
    "  pooled_output = dropout(bert_model, training=False)\n",
    "\n",
    "  ## OUTPUT\n",
    "  emotion = Dense(units=n_labels, activation='sigmoid', kernel_initializer=TruncatedNormal(stddev=config.initializer_range), name='emotion')(pooled_output)\n",
    "  outputs = emotion\n",
    "\n",
    "  model = Model(inputs=inputs, outputs=outputs, name='BERT_Emotion_Classifier')\n",
    "\n",
    "  return model"
   ]
  },
  {
   "cell_type": "code",
   "execution_count": 25,
   "metadata": {
    "pycharm": {
     "name": "#%%\n"
    }
   },
   "outputs": [
    {
     "name": "stdout",
     "output_type": "stream",
     "text": [
      "Model: \"BERT_Emotion_Classifier\"\n",
      "__________________________________________________________________________________________________\n",
      " Layer (type)                   Output Shape         Param #     Connected to                     \n",
      "==================================================================================================\n",
      " attention_mask (InputLayer)    [(None, 33)]         0           []                               \n",
      "                                                                                                  \n",
      " input_ids (InputLayer)         [(None, 33)]         0           []                               \n",
      "                                                                                                  \n",
      " token_type_ids (InputLayer)    [(None, 33)]         0           []                               \n",
      "                                                                                                  \n",
      " bert (TFBertMainLayer)         TFBaseModelOutputWi  109482240   ['attention_mask[0][0]',         \n",
      "                                thPoolingAndCrossAt               'input_ids[0][0]',              \n",
      "                                tentions(last_hidde               'token_type_ids[0][0]']         \n",
      "                                n_state=(None, 33,                                                \n",
      "                                768),                                                             \n",
      "                                 pooler_output=(Non                                               \n",
      "                                e, 768),                                                          \n",
      "                                 past_key_values=No                                               \n",
      "                                ne, hidden_states=N                                               \n",
      "                                one, attentions=Non                                               \n",
      "                                e, cross_attentions                                               \n",
      "                                =None)                                                            \n",
      "                                                                                                  \n",
      " pooled_output (Dropout)        (None, 768)          0           ['bert[0][1]']                   \n",
      "                                                                                                  \n",
      " emotion (Dense)                (None, 7)            5383        ['pooled_output[0][0]']          \n",
      "                                                                                                  \n",
      "==================================================================================================\n",
      "Total params: 109,487,623\n",
      "Trainable params: 109,487,623\n",
      "Non-trainable params: 0\n",
      "__________________________________________________________________________________________________\n"
     ]
    }
   ],
   "source": [
    "model = my_model(len(ekman_map))\n",
    "model.summary()"
   ]
  },
  {
   "cell_type": "code",
   "execution_count": 26,
   "metadata": {
    "pycharm": {
     "name": "#%%\n"
    }
   },
   "outputs": [
    {
     "data": {
      "image/png": "[encoded data removed]",
      "text/plain": [
       "<IPython.core.display.Image object>"
      ]
     },
     "execution_count": 26,
     "metadata": {},
     "output_type": "execute_result"
    }
   ],
   "source": [
    "plot_model(model, show_shapes=True, dpi=300)"
   ]
  },
  {
   "cell_type": "markdown",
   "metadata": {
    "pycharm": {
     "name": "#%% md\n"
    }
   },
   "source": [
    "### 2.3 Data tokenization"
   ]
  },
  {
   "cell_type": "code",
   "execution_count": 23,
   "metadata": {
    "pycharm": {
     "name": "#%%\n"
    }
   },
   "outputs": [],
   "source": [
    "## Train \n",
    "x_train = train_df['text']\n",
    "y_train = train_df.loc[:, ekman_map.keys()].values\n",
    "\n",
    "train_tokenized = tokenizer(\n",
    "    text = list(x_train),\n",
    "    add_special_tokens = True,\n",
    "    max_length = max_length,\n",
    "    padding = 'max_length',\n",
    "    truncation = True,\n",
    "    return_tensors = 'tf',\n",
    "    return_attention_mask = True,\n",
    "    return_token_type_ids = True\n",
    ")\n",
    "\n",
    "## Test\n",
    "x_test = test_df['text']\n",
    "y_test = test_df.loc[:, ekman_map.keys()].values\n",
    "\n",
    "test_tokenized = tokenizer(\n",
    "    text = list(x_test),\n",
    "    add_special_tokens = True,\n",
    "    max_length = max_length,\n",
    "    padding = 'max_length',\n",
    "    truncation = True,\n",
    "    return_tensors = 'tf',\n",
    "    return_attention_mask = True,\n",
    "    return_token_type_ids = True\n",
    ")\n",
    "\n",
    "## Validation\n",
    "x_valid = valid_df['text']\n",
    "y_valid = valid_df.loc[:, ekman_map.keys()].values\n",
    "\n",
    "valid_tokenized = tokenizer(\n",
    "    text = list(x_valid),\n",
    "    add_special_tokens = True,\n",
    "    max_length = max_length,\n",
    "    padding = 'max_length',\n",
    "    truncation = True,\n",
    "    return_tensors = 'tf',\n",
    "    return_attention_mask = True,\n",
    "    return_token_type_ids = True\n",
    ")"
   ]
  },
  {
   "cell_type": "markdown",
   "metadata": {
    "pycharm": {
     "name": "#%% md\n"
    }
   },
   "source": [
    "### 2.4 Creating BERT compatible inputs"
   ]
  },
  {
   "cell_type": "code",
   "execution_count": 24,
   "metadata": {
    "pycharm": {
     "name": "#%%\n"
    }
   },
   "outputs": [],
   "source": [
    "tf_train = {'input_ids': train_tokenized['input_ids'], 'attention_mask': train_tokenized['attention_mask'], 'token_type_ids': train_tokenized['token_type_ids']}\n",
    "tf_test = {'input_ids': test_tokenized['input_ids'], 'attention_mask': test_tokenized['attention_mask'], 'token_type_ids': test_tokenized['token_type_ids']}\n",
    "tf_valid = {'input_ids': valid_tokenized['input_ids'], 'attention_mask': valid_tokenized['attention_mask'], 'token_type_ids': valid_tokenized['token_type_ids']}"
   ]
  },
  {
   "cell_type": "code",
   "execution_count": 25,
   "metadata": {
    "pycharm": {
     "name": "#%%\n"
    }
   },
   "outputs": [],
   "source": [
    "train = tf.data.Dataset.from_tensor_slices((tf_train, y_train)).batch(80)\n",
    "valid = tf.data.Dataset.from_tensor_slices((tf_valid, y_valid)).batch(80)\n",
    "test = tf.data.Dataset.from_tensor_slices((tf_test, y_test)).batch(80)"
   ]
  },
  {
   "cell_type": "code",
   "execution_count": 27,
   "metadata": {
    "pycharm": {
     "name": "#%%\n"
    }
   },
   "outputs": [],
   "source": [
    "learning_rate = tf.keras.optimizers.schedules.ExponentialDecay(\n",
    "    initial_learning_rate=5e-5,\n",
    "    decay_rate=0.7,\n",
    "    decay_steps=340,\n",
    "    staircase=True)\n",
    "\n",
    "optimizer = tf.keras.optimizers.Adam(learning_rate=learning_rate)\n",
    "\n",
    "loss = tf.keras.losses.BinaryCrossentropy(from_logits=False)"
   ]
  },
  {
   "cell_type": "code",
   "execution_count": 31,
   "metadata": {
    "pycharm": {
     "name": "#%%\n"
    }
   },
   "outputs": [],
   "source": [
    "K.clear_session()"
   ]
  },
  {
   "cell_type": "markdown",
   "metadata": {
    "pycharm": {
     "name": "#%% md\n"
    }
   },
   "source": [
    "Prior experiments with BERT showed that the model starts to overfit after ~2 epochs and Tanh performed significantly worse than sigmoid."
   ]
  },
  {
   "cell_type": "code",
   "execution_count": null,
   "metadata": {
    "pycharm": {
     "name": "#%%\n"
    }
   },
   "outputs": [],
   "source": [
    "model.compile(optimizer=optimizer, loss=loss, metrics=['accuracy'])\n",
    "history = model.fit(train, epochs=2, validation_data=valid)"
   ]
  },
  {
   "cell_type": "code",
   "execution_count": null,
   "metadata": {
    "pycharm": {
     "name": "#%%\n"
    }
   },
   "outputs": [],
   "source": [
    "model.save_weights('./models/sigmoid_bert.h5')"
   ]
  },
  {
   "cell_type": "markdown",
   "metadata": {
    "pycharm": {
     "name": "#%% md\n"
    }
   },
   "source": [
    "# 3. Evaluation"
   ]
  },
  {
   "cell_type": "markdown",
   "metadata": {
    "pycharm": {
     "name": "#%% md\n"
    }
   },
   "source": [
    "When dealing with unbalanced data, it is essential to mini-batch train the model instead of training it on all the data. This helps to prevent the model from overfitting the minority class. It is also essential to be thoughtful about what metric is being used for model evaluation. When dealing with unbalanced data, accuracy is not a good metric, as the model can predict the majority class every time and still have high accuracy. Instead, it is crucial to use the precision/recall or the F1 score, as these metrics consider false positives and false negatives.\n"
   ]
  },
  {
   "cell_type": "code",
   "execution_count": 28,
   "metadata": {
    "pycharm": {
     "name": "#%%\n"
    }
   },
   "outputs": [],
   "source": [
    "model = my_model(len(ekman_map))\n",
    "model.load_weights('./models/sigmoid_bert.h5')"
   ]
  },
  {
   "cell_type": "code",
   "execution_count": 270,
   "metadata": {
    "pycharm": {
     "name": "#%%\n"
    }
   },
   "outputs": [],
   "source": [
    "THRESHOLD = 0.83\n",
    "\n",
    "y_pred = model.predict(test)"
   ]
  },
  {
   "cell_type": "code",
   "execution_count": 272,
   "metadata": {
    "pycharm": {
     "name": "#%%\n"
    }
   },
   "outputs": [
    {
     "data": {
      "text/html": [
       "<div>\n",
       "<style scoped>\n",
       "    .dataframe tbody tr th:only-of-type {\n",
       "        vertical-align: middle;\n",
       "    }\n",
       "\n",
       "    .dataframe tbody tr th {\n",
       "        vertical-align: top;\n",
       "    }\n",
       "\n",
       "    .dataframe thead th {\n",
       "        text-align: right;\n",
       "    }\n",
       "</style>\n",
       "<table border=\"1\" class=\"dataframe\">\n",
       "  <thead>\n",
       "    <tr style=\"text-align: right;\">\n",
       "      <th></th>\n",
       "      <th>text</th>\n",
       "      <th>anger</th>\n",
       "      <th>disgust</th>\n",
       "      <th>fear</th>\n",
       "      <th>joy</th>\n",
       "      <th>sadness</th>\n",
       "      <th>surprise</th>\n",
       "      <th>neutral</th>\n",
       "    </tr>\n",
       "  </thead>\n",
       "  <tbody>\n",
       "    <tr>\n",
       "      <th>0</th>\n",
       "      <td>I’m really sorry about your situation :( Altho...</td>\n",
       "      <td>0.011721</td>\n",
       "      <td>0.005526</td>\n",
       "      <td>0.009489</td>\n",
       "      <td>0.333413</td>\n",
       "      <td>0.908717</td>\n",
       "      <td>0.023670</td>\n",
       "      <td>0.015264</td>\n",
       "    </tr>\n",
       "    <tr>\n",
       "      <th>1</th>\n",
       "      <td>It's wonderful because it's awful. At not with.</td>\n",
       "      <td>0.090920</td>\n",
       "      <td>0.425903</td>\n",
       "      <td>0.074700</td>\n",
       "      <td>0.881766</td>\n",
       "      <td>0.035821</td>\n",
       "      <td>0.027443</td>\n",
       "      <td>0.014918</td>\n",
       "    </tr>\n",
       "    <tr>\n",
       "      <th>2</th>\n",
       "      <td>Kings fan here, good luck to you guys! Will be...</td>\n",
       "      <td>0.007555</td>\n",
       "      <td>0.001614</td>\n",
       "      <td>0.001274</td>\n",
       "      <td>0.980743</td>\n",
       "      <td>0.003579</td>\n",
       "      <td>0.010421</td>\n",
       "      <td>0.021167</td>\n",
       "    </tr>\n",
       "    <tr>\n",
       "      <th>3</th>\n",
       "      <td>I didn't know that, thank you for teaching me ...</td>\n",
       "      <td>0.010060</td>\n",
       "      <td>0.002248</td>\n",
       "      <td>0.003295</td>\n",
       "      <td>0.974120</td>\n",
       "      <td>0.008027</td>\n",
       "      <td>0.274153</td>\n",
       "      <td>0.009904</td>\n",
       "    </tr>\n",
       "    <tr>\n",
       "      <th>4</th>\n",
       "      <td>They got bored from haunting earth for thousan...</td>\n",
       "      <td>0.153944</td>\n",
       "      <td>0.034610</td>\n",
       "      <td>0.012113</td>\n",
       "      <td>0.044413</td>\n",
       "      <td>0.217566</td>\n",
       "      <td>0.019571</td>\n",
       "      <td>0.637800</td>\n",
       "    </tr>\n",
       "    <tr>\n",
       "      <th>5</th>\n",
       "      <td>Thank you for asking questions and recognizing...</td>\n",
       "      <td>0.010523</td>\n",
       "      <td>0.002019</td>\n",
       "      <td>0.002120</td>\n",
       "      <td>0.989072</td>\n",
       "      <td>0.004201</td>\n",
       "      <td>0.042558</td>\n",
       "      <td>0.009365</td>\n",
       "    </tr>\n",
       "    <tr>\n",
       "      <th>6</th>\n",
       "      <td>You’re welcome</td>\n",
       "      <td>0.006238</td>\n",
       "      <td>0.001227</td>\n",
       "      <td>0.000976</td>\n",
       "      <td>0.960289</td>\n",
       "      <td>0.003087</td>\n",
       "      <td>0.005575</td>\n",
       "      <td>0.047323</td>\n",
       "    </tr>\n",
       "    <tr>\n",
       "      <th>7</th>\n",
       "      <td>100%! Congrats on your job too!</td>\n",
       "      <td>0.008894</td>\n",
       "      <td>0.001032</td>\n",
       "      <td>0.000608</td>\n",
       "      <td>0.959041</td>\n",
       "      <td>0.002684</td>\n",
       "      <td>0.007411</td>\n",
       "      <td>0.043967</td>\n",
       "    </tr>\n",
       "    <tr>\n",
       "      <th>8</th>\n",
       "      <td>I’m sorry to hear that friend :(. It’s for the...</td>\n",
       "      <td>0.014285</td>\n",
       "      <td>0.006906</td>\n",
       "      <td>0.009549</td>\n",
       "      <td>0.128064</td>\n",
       "      <td>0.924843</td>\n",
       "      <td>0.020818</td>\n",
       "      <td>0.025940</td>\n",
       "    </tr>\n",
       "    <tr>\n",
       "      <th>9</th>\n",
       "      <td>Girlfriend weak as well, that jump was pathetic.</td>\n",
       "      <td>0.048291</td>\n",
       "      <td>0.038965</td>\n",
       "      <td>0.010835</td>\n",
       "      <td>0.054523</td>\n",
       "      <td>0.872390</td>\n",
       "      <td>0.007691</td>\n",
       "      <td>0.056577</td>\n",
       "    </tr>\n",
       "  </tbody>\n",
       "</table>\n",
       "</div>"
      ],
      "text/plain": [
       "                                                text     anger   disgust  \\\n",
       "0  I’m really sorry about your situation :( Altho...  0.011721  0.005526   \n",
       "1    It's wonderful because it's awful. At not with.  0.090920  0.425903   \n",
       "2  Kings fan here, good luck to you guys! Will be...  0.007555  0.001614   \n",
       "3  I didn't know that, thank you for teaching me ...  0.010060  0.002248   \n",
       "4  They got bored from haunting earth for thousan...  0.153944  0.034610   \n",
       "5  Thank you for asking questions and recognizing...  0.010523  0.002019   \n",
       "6                                     You’re welcome  0.006238  0.001227   \n",
       "7                    100%! Congrats on your job too!  0.008894  0.001032   \n",
       "8  I’m sorry to hear that friend :(. It’s for the...  0.014285  0.006906   \n",
       "9   Girlfriend weak as well, that jump was pathetic.  0.048291  0.038965   \n",
       "\n",
       "       fear       joy   sadness  surprise   neutral  \n",
       "0  0.009489  0.333413  0.908717  0.023670  0.015264  \n",
       "1  0.074700  0.881766  0.035821  0.027443  0.014918  \n",
       "2  0.001274  0.980743  0.003579  0.010421  0.021167  \n",
       "3  0.003295  0.974120  0.008027  0.274153  0.009904  \n",
       "4  0.012113  0.044413  0.217566  0.019571  0.637800  \n",
       "5  0.002120  0.989072  0.004201  0.042558  0.009365  \n",
       "6  0.000976  0.960289  0.003087  0.005575  0.047323  \n",
       "7  0.000608  0.959041  0.002684  0.007411  0.043967  \n",
       "8  0.009549  0.128064  0.924843  0.020818  0.025940  \n",
       "9  0.010835  0.054523  0.872390  0.007691  0.056577  "
      ]
     },
     "execution_count": 272,
     "metadata": {},
     "output_type": "execute_result"
    }
   ],
   "source": [
    "probabilities = y_pred\n",
    "\n",
    "probabilities = pd.DataFrame(probabilities, columns=ekman_map.keys())\n",
    "probabilities.index = x_test\n",
    "probabilities.reset_index(inplace=True)\n",
    "probabilities.head(10)"
   ]
  },
  {
   "cell_type": "code",
   "execution_count": 274,
   "metadata": {
    "pycharm": {
     "name": "#%%\n"
    }
   },
   "outputs": [],
   "source": [
    "y_pred = np.where(y_pred > THRESHOLD, 1, 0)\n",
    "\n",
    "recall = []\n",
    "f1 = []\n",
    "precision = []\n",
    "emotions = ekman_map.keys()\n",
    "\n",
    "for i in range(len(emotions)):\n",
    "    f1.append(f1_score(y_test[:, i], y_pred[:, i], average='macro'))\n",
    "    precision.append(precision_score(y_test[:, i], y_pred[:, i], average='macro'))\n",
    "\n",
    "results = pd.DataFrame({'precision': precision, 'f1': f1})\n",
    "results.index = emotions\n",
    "\n",
    "means = {'precision': np.mean(precision), 'f1': np.mean(f1)}\n",
    "means = pd.DataFrame(means, index=['mean'])\n"
   ]
  },
  {
   "cell_type": "code",
   "execution_count": 275,
   "metadata": {
    "pycharm": {
     "name": "#%%\n"
    }
   },
   "outputs": [
    {
     "data": {
      "text/html": [
       "<div>\n",
       "<style scoped>\n",
       "    .dataframe tbody tr th:only-of-type {\n",
       "        vertical-align: middle;\n",
       "    }\n",
       "\n",
       "    .dataframe tbody tr th {\n",
       "        vertical-align: top;\n",
       "    }\n",
       "\n",
       "    .dataframe thead th {\n",
       "        text-align: right;\n",
       "    }\n",
       "</style>\n",
       "<table border=\"1\" class=\"dataframe\">\n",
       "  <thead>\n",
       "    <tr style=\"text-align: right;\">\n",
       "      <th></th>\n",
       "      <th>precision</th>\n",
       "      <th>f1</th>\n",
       "    </tr>\n",
       "  </thead>\n",
       "  <tbody>\n",
       "    <tr>\n",
       "      <th>anger</th>\n",
       "      <td>0.850139</td>\n",
       "      <td>0.608628</td>\n",
       "    </tr>\n",
       "    <tr>\n",
       "      <th>disgust</th>\n",
       "      <td>0.988938</td>\n",
       "      <td>0.518217</td>\n",
       "    </tr>\n",
       "    <tr>\n",
       "      <th>fear</th>\n",
       "      <td>0.922815</td>\n",
       "      <td>0.753969</td>\n",
       "    </tr>\n",
       "    <tr>\n",
       "      <th>joy</th>\n",
       "      <td>0.871704</td>\n",
       "      <td>0.841515</td>\n",
       "    </tr>\n",
       "    <tr>\n",
       "      <th>sadness</th>\n",
       "      <td>0.887779</td>\n",
       "      <td>0.723279</td>\n",
       "    </tr>\n",
       "    <tr>\n",
       "      <th>surprise</th>\n",
       "      <td>0.836967</td>\n",
       "      <td>0.636299</td>\n",
       "    </tr>\n",
       "    <tr>\n",
       "      <th>neutral</th>\n",
       "      <td>0.775999</td>\n",
       "      <td>0.544398</td>\n",
       "    </tr>\n",
       "    <tr>\n",
       "      <th>mean</th>\n",
       "      <td>0.876334</td>\n",
       "      <td>0.660901</td>\n",
       "    </tr>\n",
       "  </tbody>\n",
       "</table>\n",
       "</div>"
      ],
      "text/plain": [
       "          precision        f1\n",
       "anger      0.850139  0.608628\n",
       "disgust    0.988938  0.518217\n",
       "fear       0.922815  0.753969\n",
       "joy        0.871704  0.841515\n",
       "sadness    0.887779  0.723279\n",
       "surprise   0.836967  0.636299\n",
       "neutral    0.775999  0.544398\n",
       "mean       0.876334  0.660901"
      ]
     },
     "execution_count": 275,
     "metadata": {},
     "output_type": "execute_result"
    }
   ],
   "source": [
    "pd.concat([results, means], axis=0)"
   ]
  },
  {
   "cell_type": "markdown",
   "metadata": {
    "pycharm": {
     "name": "#%% md\n"
    }
   },
   "source": [
    "### 3.1 Optimization"
   ]
  },
  {
   "cell_type": "markdown",
   "metadata": {
    "pycharm": {
     "name": "#%% md\n"
    }
   },
   "source": [
    "Finding the best value of Threshold. I chose f1-score as the main metric because it is more robust than precision and recall alone."
   ]
  },
  {
   "cell_type": "code",
   "execution_count": 276,
   "metadata": {
    "pycharm": {
     "name": "#%%\n"
    }
   },
   "outputs": [],
   "source": [
    "best_threshold = 0\n",
    "best_f1 = 0\n",
    "pred = model.predict(test)\n",
    "\n",
    "for threshold in np.arange(0.30, 0.99, 0.01):\n",
    "    preds = np.where(pred > threshold, 1, 0)\n",
    "\n",
    "    f1 = f1_score(y_test, preds, average='macro', zero_division=0)\n",
    "\n",
    "    if f1 > best_f1:\n",
    "        best_threshold = threshold\n",
    "        best_f1 = f1\n",
    "    else:\n",
    "        continue"
   ]
  },
  {
   "cell_type": "code",
   "execution_count": 201,
   "metadata": {
    "pycharm": {
     "name": "#%%\n"
    }
   },
   "outputs": [
    {
     "name": "stdout",
     "output_type": "stream",
     "text": [
      "Best threshold: 0.39000000000000007\n",
      "Best f1: 0.6318331819845665\n"
     ]
    }
   ],
   "source": [
    "print(f'Best threshold: {best_threshold}\\nBest f1: {best_f1}')"
   ]
  },
  {
   "cell_type": "code",
   "execution_count": 277,
   "metadata": {
    "pycharm": {
     "name": "#%%\n"
    }
   },
   "outputs": [],
   "source": [
    "THRESHOLD = 0.39"
   ]
  },
  {
   "cell_type": "markdown",
   "metadata": {
    "pycharm": {
     "name": "#%% md\n"
    }
   },
   "source": [
    "## 4. Make Predictions"
   ]
  },
  {
   "cell_type": "code",
   "execution_count": 278,
   "metadata": {
    "pycharm": {
     "name": "#%%\n"
    }
   },
   "outputs": [],
   "source": [
    "def pred(text, model, THRESHOLD):\n",
    "\n",
    "    text = [clean_text(text) for text in text]\n",
    "    \n",
    "    tokenized = tokenizer(\n",
    "        text = text,\n",
    "        add_special_tokens = True,\n",
    "        max_length = max_length,\n",
    "        padding = 'max_length',\n",
    "        truncation = True,\n",
    "        return_tensors = 'tf',\n",
    "        return_attention_mask = True,\n",
    "        return_token_type_ids = True\n",
    "    )\n",
    "\n",
    "    tf_test = {'input_ids': tokenized['input_ids'], 'attention_mask': tokenized['attention_mask'], 'token_type_ids': tokenized['token_type_ids']}\n",
    "\n",
    "    pred = model.predict(tf_test)\n",
    "\n",
    "    probabilities = pred\n",
    "    probabilities = pd.DataFrame(probabilities, columns=ekman_map.keys())\n",
    "    probabilities.index = text\n",
    "    probabilities.reset_index(inplace=True)\n",
    "\n",
    "    pred = np.where(pred > THRESHOLD, 1, 0)\n",
    "\n",
    "    pred = pd.DataFrame(pred, columns=ekman_map.keys())\n",
    "    pred['emotion'] = pred.iloc[:, 1:].idxmax(axis=1)\n",
    "    pred.drop(columns=emotions, inplace=True)\n",
    "    pred.index = text\n",
    "    pred.reset_index(inplace=True)\n",
    "\n",
    "    return pred, probabilities"
   ]
  },
  {
   "cell_type": "code",
   "execution_count": 296,
   "metadata": {
    "pycharm": {
     "name": "#%%\n"
    }
   },
   "outputs": [],
   "source": [
    "result, probabilities = pred(['A Ukrainian woman who escaped Russias assault on Mariupol says troops were targeting apartment buildings as if they were playing a computer game', 'I often go to parks to walk and destress and enjoy nature', 'How can this be', 'This is the worst muffin ive ever had'], model, THRESHOLD)"
   ]
  },
  {
   "cell_type": "code",
   "execution_count": 297,
   "metadata": {
    "pycharm": {
     "name": "#%%\n"
    }
   },
   "outputs": [
    {
     "data": {
      "text/html": [
       "<div>\n",
       "<style scoped>\n",
       "    .dataframe tbody tr th:only-of-type {\n",
       "        vertical-align: middle;\n",
       "    }\n",
       "\n",
       "    .dataframe tbody tr th {\n",
       "        vertical-align: top;\n",
       "    }\n",
       "\n",
       "    .dataframe thead th {\n",
       "        text-align: right;\n",
       "    }\n",
       "</style>\n",
       "<table border=\"1\" class=\"dataframe\">\n",
       "  <thead>\n",
       "    <tr style=\"text-align: right;\">\n",
       "      <th></th>\n",
       "      <th>index</th>\n",
       "      <th>emotion</th>\n",
       "    </tr>\n",
       "  </thead>\n",
       "  <tbody>\n",
       "    <tr>\n",
       "      <th>0</th>\n",
       "      <td>a ukrainian woman who escaped russias assault ...</td>\n",
       "      <td>neutral</td>\n",
       "    </tr>\n",
       "    <tr>\n",
       "      <th>1</th>\n",
       "      <td>i often go to parks to walk and destress and e...</td>\n",
       "      <td>joy</td>\n",
       "    </tr>\n",
       "    <tr>\n",
       "      <th>2</th>\n",
       "      <td>how can this be</td>\n",
       "      <td>surprise</td>\n",
       "    </tr>\n",
       "    <tr>\n",
       "      <th>3</th>\n",
       "      <td>this is the worst muffin ive ever had</td>\n",
       "      <td>disgust</td>\n",
       "    </tr>\n",
       "  </tbody>\n",
       "</table>\n",
       "</div>"
      ],
      "text/plain": [
       "                                               index   emotion\n",
       "0  a ukrainian woman who escaped russias assault ...   neutral\n",
       "1  i often go to parks to walk and destress and e...       joy\n",
       "2                                    how can this be  surprise\n",
       "3              this is the worst muffin ive ever had   disgust"
      ]
     },
     "execution_count": 297,
     "metadata": {},
     "output_type": "execute_result"
    }
   ],
   "source": [
    "result"
   ]
  },
  {
   "cell_type": "code",
   "execution_count": 298,
   "metadata": {
    "pycharm": {
     "name": "#%%\n"
    }
   },
   "outputs": [
    {
     "data": {
      "text/html": [
       "<div>\n",
       "<style scoped>\n",
       "    .dataframe tbody tr th:only-of-type {\n",
       "        vertical-align: middle;\n",
       "    }\n",
       "\n",
       "    .dataframe tbody tr th {\n",
       "        vertical-align: top;\n",
       "    }\n",
       "\n",
       "    .dataframe thead th {\n",
       "        text-align: right;\n",
       "    }\n",
       "</style>\n",
       "<table border=\"1\" class=\"dataframe\">\n",
       "  <thead>\n",
       "    <tr style=\"text-align: right;\">\n",
       "      <th></th>\n",
       "      <th>index</th>\n",
       "      <th>anger</th>\n",
       "      <th>disgust</th>\n",
       "      <th>fear</th>\n",
       "      <th>joy</th>\n",
       "      <th>sadness</th>\n",
       "      <th>surprise</th>\n",
       "      <th>neutral</th>\n",
       "    </tr>\n",
       "  </thead>\n",
       "  <tbody>\n",
       "    <tr>\n",
       "      <th>0</th>\n",
       "      <td>a ukrainian woman who escaped russias assault ...</td>\n",
       "      <td>0.087899</td>\n",
       "      <td>0.016457</td>\n",
       "      <td>0.013741</td>\n",
       "      <td>0.059171</td>\n",
       "      <td>0.037938</td>\n",
       "      <td>0.035673</td>\n",
       "      <td>0.771584</td>\n",
       "    </tr>\n",
       "    <tr>\n",
       "      <th>1</th>\n",
       "      <td>i often go to parks to walk and destress and e...</td>\n",
       "      <td>0.005118</td>\n",
       "      <td>0.000891</td>\n",
       "      <td>0.000841</td>\n",
       "      <td>0.948705</td>\n",
       "      <td>0.002574</td>\n",
       "      <td>0.017889</td>\n",
       "      <td>0.060095</td>\n",
       "    </tr>\n",
       "    <tr>\n",
       "      <th>2</th>\n",
       "      <td>how can this be</td>\n",
       "      <td>0.057721</td>\n",
       "      <td>0.005070</td>\n",
       "      <td>0.005864</td>\n",
       "      <td>0.007708</td>\n",
       "      <td>0.015448</td>\n",
       "      <td>0.712940</td>\n",
       "      <td>0.290443</td>\n",
       "    </tr>\n",
       "    <tr>\n",
       "      <th>3</th>\n",
       "      <td>this is the worst muffin ive ever had</td>\n",
       "      <td>0.263611</td>\n",
       "      <td>0.804038</td>\n",
       "      <td>0.069563</td>\n",
       "      <td>0.053430</td>\n",
       "      <td>0.088046</td>\n",
       "      <td>0.035055</td>\n",
       "      <td>0.072389</td>\n",
       "    </tr>\n",
       "  </tbody>\n",
       "</table>\n",
       "</div>"
      ],
      "text/plain": [
       "                                               index     anger   disgust  \\\n",
       "0  a ukrainian woman who escaped russias assault ...  0.087899  0.016457   \n",
       "1  i often go to parks to walk and destress and e...  0.005118  0.000891   \n",
       "2                                    how can this be  0.057721  0.005070   \n",
       "3              this is the worst muffin ive ever had  0.263611  0.804038   \n",
       "\n",
       "       fear       joy   sadness  surprise   neutral  \n",
       "0  0.013741  0.059171  0.037938  0.035673  0.771584  \n",
       "1  0.000841  0.948705  0.002574  0.017889  0.060095  \n",
       "2  0.005864  0.007708  0.015448  0.712940  0.290443  \n",
       "3  0.069563  0.053430  0.088046  0.035055  0.072389  "
      ]
     },
     "execution_count": 298,
     "metadata": {},
     "output_type": "execute_result"
    }
   ],
   "source": [
    "probabilities\n"
   ]
  }
 ],
 "metadata": {
  "interpreter": {
   "hash": "29c75b1f656e0b1ae38298d922e204e268fabb475feb2323015295e781085b10"
  },
  "kernelspec": {
   "display_name": "Python 3.9.11 ('ml')",
   "language": "python",
   "name": "python3"
  },
  "language_info": {
   "codemirror_mode": {
    "name": "ipython",
    "version": 3
   },
   "file_extension": ".py",
   "mimetype": "text/x-python",
   "name": "python",
   "nbconvert_exporter": "python",
   "pygments_lexer": "ipython3",
   "version": "3.9.11"
  },
  "orig_nbformat": 4
 },
 "nbformat": 4,
 "nbformat_minor": 2
}